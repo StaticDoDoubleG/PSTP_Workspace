{
  "nbformat": 4,
  "nbformat_minor": 0,
  "metadata": {
    "colab": {
      "provenance": [],
      "authorship_tag": "ABX9TyOjcekSAC0wewMQFn/dvnNU",
      "include_colab_link": true
    },
    "kernelspec": {
      "name": "python3",
      "display_name": "Python 3"
    },
    "language_info": {
      "name": "python"
    }
  },
  "cells": [
    {
      "cell_type": "markdown",
      "metadata": {
        "id": "view-in-github",
        "colab_type": "text"
      },
      "source": [
        "<a href=\"https://colab.research.google.com/github/StaticDoDoubleG/PSTP_Workspace/blob/main/0623_List_Concept.ipynb\" target=\"_parent\"><img src=\"https://colab.research.google.com/assets/colab-badge.svg\" alt=\"Open In Colab\"/></a>"
      ]
    },
    {
      "cell_type": "markdown",
      "source": [
        "리스트의 특성에 대해서"
      ],
      "metadata": {
        "id": "Xpfu8y_q27JU"
      }
    },
    {
      "cell_type": "code",
      "execution_count": null,
      "metadata": {
        "id": "RL0OZ7c5im5q",
        "colab": {
          "base_uri": "https://localhost:8080/",
          "height": 35
        },
        "outputId": "12b5e7ad-a4a1-4ede-c616-c306ff473e43"
      },
      "outputs": [
        {
          "output_type": "execute_result",
          "data": {
            "text/plain": [
              "'딸기'"
            ],
            "application/vnd.google.colaboratory.intrinsic+json": {
              "type": "string"
            }
          },
          "metadata": {},
          "execution_count": 2
        }
      ],
      "source": [
        "a = [1, 2, 3, 4, 5]                              #정수형 리스트\n",
        "b = [1.25, 3.14, 5.11]                           #실수형 리스트\n",
        "c = ['가', '나', '다']                           #문자열 리스트\n",
        "d = [11, 12, 3.13, '딸기', [15, 3.25, '가나다']] #혼합형 리스트\n",
        "#    0    1    2     3               4           <- 인덱스 번호\n",
        "#리스트변수명[인덱스번호] -> 해당 리스트의 인덱스 번호 위치 값을 읽어온다.\n",
        "d[4]\n",
        "d[3]\n"
      ]
    },
    {
      "cell_type": "code",
      "source": [
        "print(d[4])\n",
        "print(d[3])"
      ],
      "metadata": {
        "colab": {
          "base_uri": "https://localhost:8080/"
        },
        "id": "RDFXi3-1s0Pk",
        "outputId": "30ea451d-7458-497d-c507-9231e1db3175"
      },
      "execution_count": null,
      "outputs": [
        {
          "output_type": "stream",
          "name": "stdout",
          "text": [
            "[15, 3.25, '가나다']\n",
            "딸기\n"
          ]
        }
      ]
    },
    {
      "cell_type": "code",
      "source": [
        "d = [11, 12, 3.13, '딸기', [15, 3.25, '가나다']] #혼합형 리스트\n",
        "#    0    1    2     3               4           <- 인덱스 번호\n",
        "#슬라이싱 -> 리스트 변수명[시작 인덱스 : 종료 인덱스]\n",
        "#실제 종료하고 싶은 값보다 +1 종료인덱스, \"~미\"\n",
        "print(d[1 : 4])"
      ],
      "metadata": {
        "colab": {
          "base_uri": "https://localhost:8080/"
        },
        "id": "63--Msaotevt",
        "outputId": "473f9760-95bd-4b1b-8f3e-67c8ff311a78"
      },
      "execution_count": null,
      "outputs": [
        {
          "output_type": "stream",
          "name": "stdout",
          "text": [
            "[12, 3.13, '딸기']\n"
          ]
        }
      ]
    },
    {
      "cell_type": "code",
      "source": [
        "문자열 = \"가나다라마바\"\n",
        "#         0 1 2 3 4 5\n",
        "#문장열은 인덱스를 이용해 내용 변경이 불가능함\n",
        "#문자열[4] = '아' //실제로 실행하면 에러가 발\n",
        "문자열[4]"
      ],
      "metadata": {
        "colab": {
          "base_uri": "https://localhost:8080/",
          "height": 35
        },
        "id": "AhfsKd0FurJZ",
        "outputId": "295be317-7f92-44b5-ecdb-86070658679e"
      },
      "execution_count": null,
      "outputs": [
        {
          "output_type": "execute_result",
          "data": {
            "text/plain": [
              "'마'"
            ],
            "application/vnd.google.colaboratory.intrinsic+json": {
              "type": "string"
            }
          },
          "metadata": {},
          "execution_count": 12
        }
      ]
    },
    {
      "cell_type": "code",
      "source": [
        "리스트 = ['가', '나', '다', '라', '마', '바']\n",
        "#리스트는 인덱스를 이용해 내용 변경이 가능함\n",
        "리스트[4] = '아'\n",
        "리스트[4]\n",
        "리스트"
      ],
      "metadata": {
        "colab": {
          "base_uri": "https://localhost:8080/"
        },
        "id": "ZExVvQJgu_GL",
        "outputId": "eadacf24-8765-4c28-ab18-4164d86b39d7"
      },
      "execution_count": null,
      "outputs": [
        {
          "output_type": "execute_result",
          "data": {
            "text/plain": [
              "['가', '나', '다', '라', '아', '바']"
            ]
          },
          "metadata": {},
          "execution_count": 14
        }
      ]
    },
    {
      "cell_type": "code",
      "source": [
        "score = [70, 80, 90, 100, 70, 60, 50, 90]\n",
        "for i in score:\n",
        "  print(i)"
      ],
      "metadata": {
        "colab": {
          "base_uri": "https://localhost:8080/"
        },
        "id": "XrJXwpeRwIhf",
        "outputId": "9cf4ec1c-221e-4a6f-ca23-2487c0926603"
      },
      "execution_count": null,
      "outputs": [
        {
          "output_type": "stream",
          "name": "stdout",
          "text": [
            "70\n",
            "80\n",
            "90\n",
            "100\n",
            "70\n",
            "60\n",
            "50\n",
            "90\n"
          ]
        }
      ]
    },
    {
      "cell_type": "code",
      "source": [
        "#(1)\n",
        "#for 변수 in 시퀀스범위:\n",
        "#  실행할 문장\n",
        "\n",
        "for i in [1, 2, 3, 4]:\n",
        "  print(i, end = \" \")\n",
        "print()\n",
        "#(2)\n",
        "#for 변수 in range(시작값, 종료값, 단계): //종료값 = 실제 종료값 + 1\n",
        "#  실행할 문장\n",
        "\n",
        "for i in range(1, 11, 1):\n",
        "  print(i, end = \" \")\n",
        "print()\n",
        "for i in range(10, 0, -1): # 1씩 단계가 증가하는 경우에는 생략해도 되지만, 이 경우 단계 인자 생략하면 안됨\n",
        "  print(i, end = \" \")\n",
        "\n",
        "#(3)\n",
        "#for 변수 in range(종료값):\n",
        "#  실행할 문장\n",
        "\n",
        "for i in range(10):\n",
        "  print(i, end = \" \")  #시작값이 생략된 경우는 컴퓨터가 시작값을 0이라고 간주하고 반복한다.\n",
        "print()\n",
        "#정확한 횟수를 알고 있을 경우에 사용"
      ],
      "metadata": {
        "colab": {
          "base_uri": "https://localhost:8080/"
        },
        "id": "Od8GUkj3xp30",
        "outputId": "45954ffe-7041-4693-c351-7fb6dc7f64a5"
      },
      "execution_count": null,
      "outputs": [
        {
          "output_type": "stream",
          "name": "stdout",
          "text": [
            "1 2 3 4 \n",
            "1 2 3 4 5 6 7 8 9 10 \n",
            "10 9 8 7 6 5 4 3 2 1 "
          ]
        }
      ]
    },
    {
      "cell_type": "code",
      "source": [
        "score = [70, 80, 90, 100, 70, 60, 50, 90]\n",
        "#리스트크기(길이) 확인하고 싶을 때 : len()\n",
        "len(score)\n",
        "sum = 0\n",
        "for i in range(len(score)):\n",
        "  sum = sum + score[i]\n",
        "\n",
        "#print('8명 학생의 평균' + sum)\n",
        "print(f'{len(score)}명 학생의 평균은 {sum / len(score)}')"
      ],
      "metadata": {
        "colab": {
          "base_uri": "https://localhost:8080/"
        },
        "id": "pWIB9bx_0aEG",
        "outputId": "59af3b88-c103-40b4-97fd-3bea457a65c1"
      },
      "execution_count": null,
      "outputs": [
        {
          "output_type": "stream",
          "name": "stdout",
          "text": [
            "8명 학생의 평균은 76.25\n"
          ]
        }
      ]
    },
    {
      "cell_type": "markdown",
      "source": [
        "다차원 리스트에 대해서\n",
        "\n",
        "row    행 가로줄   \n",
        "column 렬 세로줄"
      ],
      "metadata": {
        "id": "br9ptnUg226M"
      }
    },
    {
      "cell_type": "code",
      "source": [
        "#2차원 리스트\n",
        "#리스트변수명 = [[], [], []]\n",
        "students = [\n",
        "    ['john', 18, 'male'],\n",
        "    ['lisa', 17, 'female'],\n",
        "    ['david', 19, 'male']\n",
        "  ]\n",
        "\n",
        "students[0] #첫번째(인덱스 0) 행 출력\n",
        "students[1] #두번째(인덱스 1) 행 출력\n",
        "students[2] #세번째(인덱스 2) 행 출력"
      ],
      "metadata": {
        "colab": {
          "base_uri": "https://localhost:8080/"
        },
        "id": "nWoxpdYk21Sd",
        "outputId": "88670b84-e7ab-4dff-edda-88793e20e833"
      },
      "execution_count": null,
      "outputs": [
        {
          "output_type": "execute_result",
          "data": {
            "text/plain": [
              "['david', 19, 'male']"
            ]
          },
          "metadata": {},
          "execution_count": 32
        }
      ]
    },
    {
      "cell_type": "code",
      "source": [
        "students[0][0] #첫번째 행, 첫번째 열 출력\n",
        "students[1][2] #두번째 행, 세번째 열 출력"
      ],
      "metadata": {
        "colab": {
          "base_uri": "https://localhost:8080/",
          "height": 35
        },
        "id": "n8XNUoJS9JSH",
        "outputId": "8cff78e8-90fa-4126-a4db-ca9f2473269f"
      },
      "execution_count": null,
      "outputs": [
        {
          "output_type": "execute_result",
          "data": {
            "text/plain": [
              "'female'"
            ],
            "application/vnd.google.colaboratory.intrinsic+json": {
              "type": "string"
            }
          },
          "metadata": {},
          "execution_count": 33
        }
      ]
    },
    {
      "cell_type": "code",
      "source": [
        "ff = [\n",
        "    ['apple', 'red', '5000'],\n",
        "    ['banana', 'yellow', '2000'],\n",
        "    ['orange', 'orange', '3000']\n",
        "]\n",
        "\n",
        "for i in ff:\n",
        "  print(i)\n",
        "\n",
        "aa = [1, 2, ['가', 2, 'abc']]\n",
        "for i in aa:\n",
        "  print(i)"
      ],
      "metadata": {
        "colab": {
          "base_uri": "https://localhost:8080/"
        },
        "id": "8AcyGyb--DTq",
        "outputId": "4df86fe2-92e8-4560-87de-3427733bfc0b"
      },
      "execution_count": null,
      "outputs": [
        {
          "output_type": "stream",
          "name": "stdout",
          "text": [
            "['apple', 'red', '5000']\n",
            "['banana', 'yellow', '2000']\n",
            "['orange', 'orange', '3000']\n",
            "1\n",
            "2\n",
            "['가', 2, 'abc']\n"
          ]
        }
      ]
    },
    {
      "cell_type": "code",
      "source": [
        "for i  in ff:\n",
        "  name = i[0]\n",
        "  color = i[1]\n",
        "  price = i[2]\n",
        "  print(f'과일 이름 : {name}, 색상 : {color}, 가격: {price}')"
      ],
      "metadata": {
        "colab": {
          "base_uri": "https://localhost:8080/"
        },
        "id": "OsxDQUS0_dtz",
        "outputId": "8559369b-34c1-4a15-d5a0-6d44d19671dc"
      },
      "execution_count": null,
      "outputs": [
        {
          "output_type": "stream",
          "name": "stdout",
          "text": [
            "과일 이름 : apple, 색상 : red, 가격: 5000\n",
            "과일 이름 : banana, 색상 : yellow, 가격: 2000\n",
            "과일 이름 : orange, 색상 : orange, 가격: 3000\n"
          ]
        }
      ]
    },
    {
      "cell_type": "code",
      "source": [
        "qq = [\n",
        "    ['대한민국의 수도는?', '서울'],\n",
        "    ['미국의 수도는?', '워싱턴 D.C'],\n",
        "    ['싱가포르의 수도는?', '싱가포르']\n",
        "]#2차원 리스트로 퀴즈 문제 만둘기\n",
        "count = 0\n",
        "for q in qq:\n",
        "  question = q[0] #문제, 첫번째(인덱스 0) 열\n",
        "  answer = q[1] #답, 두번째(인덱스 1) 열\n",
        "\n",
        "  user = input(question + \" \")\n",
        "\n",
        "  #print(user)\n",
        "  #print(answer)\n",
        "  if user.lower() == answer.lower():\n",
        "    print(\"정답입니다.\")\n",
        "    count = count + 1\n",
        "  else:\n",
        "    print(\"틀렸습니다.\")\n",
        "print(f'총 {count}개 맞췄습니다.')\n",
        "print(f'총 {count * 2}점 득점했습니다.')"
      ],
      "metadata": {
        "colab": {
          "base_uri": "https://localhost:8080/"
        },
        "id": "hoZhut_7BKUn",
        "outputId": "b0e357fd-81ee-4a07-994e-cdbb02fbe24d"
      },
      "execution_count": null,
      "outputs": [
        {
          "output_type": "stream",
          "name": "stdout",
          "text": [
            "대한민국의 수도는? 서울\n",
            "정답입니다.\n",
            "미국의 수도는? 워싱턴 D.C\n",
            "정답입니다.\n",
            "싱가포르의 수도는? 싱가포르\n",
            "정답입니다.\n",
            "총 3개 맞췄습니다.\n",
            "총 6점 득점했습니다.\n"
          ]
        }
      ]
    },
    {
      "cell_type": "code",
      "source": [
        "qq = [\n",
        "    ['What is the capital of France?', 'paris'],\n",
        "    ['Which planet is known as the Red Planet?', 'venus'],\n",
        "    ['What is the largest ocean on Earth?', 'pacific']\n",
        "]#2차원 리스트로 퀴즈 문제 만둘기\n",
        "count = 0\n",
        "for q in qq:\n",
        "  question = q[0] #문제, 첫번째(인덱스 0) 열\n",
        "  answer = q[1] #답, 두번째(인덱스 1) 열\n",
        "\n",
        "  user = input(question + \" \")\n",
        "\n",
        "  #print(user)\n",
        "  #print(answer)\n",
        "  if user.lower() == answer.lower():\n",
        "    print(\"Correct.\")\n",
        "    count = count + 1\n",
        "  else:\n",
        "    print(\"Incorrect\")\n",
        "#print(f'총 {count}개 맞췄습니다.')\n",
        "print(f'Your Final Score is {count * 2}.')"
      ],
      "metadata": {
        "colab": {
          "base_uri": "https://localhost:8080/"
        },
        "id": "2g3UbUGTF14E",
        "outputId": "b217272d-8206-459b-fa32-29d2082c5e08"
      },
      "execution_count": null,
      "outputs": [
        {
          "output_type": "stream",
          "name": "stdout",
          "text": [
            "What is the capital of France? PAris\n",
            "Correct.\n",
            "Which planet is known as the Red Planet? Venus\n",
            "Correct.\n",
            "What is the largest ocean on Earth? Pacific\n",
            "Correct.\n",
            "Your Final Score is 6.\n"
          ]
        }
      ]
    },
    {
      "cell_type": "code",
      "source": [
        "qq = [\n",
        "    ['Better Call?', 'Finger', 10],\n",
        "    ['What does Earth really look like?', 'venus', 15],\n",
        "    ['What is the largest ocean on Earth?', 'pacific', 5],\n",
        "    ['What is the capital of France?', 'paris', 10],\n",
        "    ['Which planet is known as the Red Planet?', 'venus', 15],\n",
        "    ['What is the largest ocean on Earth?', 'pacific', 5],\n",
        "    ['What is the capital of France?', 'paris', 10],\n",
        "    ['Which planet is known as the Red Planet?', 'venus', 15],\n",
        "    ['What is the largest ocean on Earth?', 'pacific', 5],\n",
        "    ['', 10]\n",
        "\n",
        "]#2차원 리스트로 퀴즈 문제 만둘기\n",
        "count = 0\n",
        "c = 0\n",
        "for q in qq:\n",
        "  question = q[0] #문제, 첫번째(인덱스 0) 열\n",
        "  answer = q[1] #답, 두번째(인덱스 1) 열\n",
        "  score = q[2] #배점, 세번째(인덱스 2) 열\n",
        "\n",
        "  user = input(question + \" \")\n",
        "\n",
        "  #print(user)\n",
        "  #print(answer)\n",
        "  if user.lower() == answer.lower():\n",
        "    print(\"Correct.\")\n",
        "    count = count + score\n",
        "    c = c + 1\n",
        "    #count = count + 1\n",
        "  else:\n",
        "    print(\"Incorrect\")\n",
        "#print(f'총 {count}개 맞췄습니다.')\n",
        "print(f'Your Final Score is {count}.')"
      ],
      "metadata": {
        "id": "G_iEllnRHAx3"
      },
      "execution_count": null,
      "outputs": []
    }
  ]
}