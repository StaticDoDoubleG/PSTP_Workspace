{
  "nbformat": 4,
  "nbformat_minor": 0,
  "metadata": {
    "colab": {
      "provenance": [],
      "authorship_tag": "ABX9TyNMBAOyMFJ7w7oD9XmwhK9T",
      "include_colab_link": true
    },
    "kernelspec": {
      "name": "python3",
      "display_name": "Python 3"
    },
    "language_info": {
      "name": "python"
    }
  },
  "cells": [
    {
      "cell_type": "markdown",
      "metadata": {
        "id": "view-in-github",
        "colab_type": "text"
      },
      "source": [
        "<a href=\"https://colab.research.google.com/github/StaticDoDoubleG/PSTP_Workspace/blob/main/0629_Stack_and_Queue.ipynb\" target=\"_parent\"><img src=\"https://colab.research.google.com/assets/colab-badge.svg\" alt=\"Open In Colab\"/></a>"
      ]
    },
    {
      "cell_type": "code",
      "execution_count": 15,
      "metadata": {
        "id": "IYEu9sCtp5jF",
        "colab": {
          "base_uri": "https://localhost:8080/"
        },
        "outputId": "7470a5e3-ca5b-4ac4-8400-6c9b8ebce396"
      },
      "outputs": [
        {
          "output_type": "stream",
          "name": "stdout",
          "text": [
            "현재 스택:[10, 20, 30]\n"
          ]
        }
      ],
      "source": [
        "st = [10, 20, 30]\n",
        "print(f'현재 스택:{st}')"
      ]
    },
    {
      "cell_type": "code",
      "source": [
        "st.append(40)\n",
        "print(f'추가 후 스택:{st}')"
      ],
      "metadata": {
        "colab": {
          "base_uri": "https://localhost:8080/"
        },
        "id": "tZwmq02ByKN1",
        "outputId": "02adb53a-7f87-4083-804d-f59f2e74f421"
      },
      "execution_count": 16,
      "outputs": [
        {
          "output_type": "stream",
          "name": "stdout",
          "text": [
            "추가 후 스택:[10, 20, 30, 40]\n"
          ]
        }
      ]
    },
    {
      "cell_type": "code",
      "source": [
        "'''\n",
        "삭제를 하는 방법\n",
        "(1)리스트변수명.pop()\n",
        "    -> 주어진 리스트의 값 중 맨 마지막 값 삭제\n",
        "'''\n",
        "\n",
        "st.pop()\n",
        "print(f'삭제 후 스택:{st}')"
      ],
      "metadata": {
        "colab": {
          "base_uri": "https://localhost:8080/"
        },
        "id": "LcPDNGM2ybhy",
        "outputId": "947d76f5-bcaf-4e09-b57d-5b5c25aec0e1"
      },
      "execution_count": 17,
      "outputs": [
        {
          "output_type": "stream",
          "name": "stdout",
          "text": [
            "삭제 후 스택:[10, 20, 30]\n"
          ]
        }
      ]
    },
    {
      "cell_type": "code",
      "source": [
        "'''\n",
        "(2) 리스트변수명.pop(인덱스 번호)\n",
        "     -> 삭제하고 싶은 인덱스 번호 선택 후 그에 해당하는 값 선택\n",
        "'''\n",
        "st.pop(0)\n",
        "print(f'삭제 후 스택:{st}')"
      ],
      "metadata": {
        "colab": {
          "base_uri": "https://localhost:8080/"
        },
        "id": "Xmz8e8yCy5Qn",
        "outputId": "0e9edb62-d2ce-4282-f37a-8464ea35472e"
      },
      "execution_count": 18,
      "outputs": [
        {
          "output_type": "stream",
          "name": "stdout",
          "text": [
            "삭제 후 스택:[20, 30]\n"
          ]
        }
      ]
    },
    {
      "cell_type": "code",
      "source": [
        "stack = list()  #빈 리스트\n",
        "#stack = []\n",
        "\n",
        "def push(data):  #스택에 값 추가\n",
        "  stack.append(int(data))\n",
        "  print(f'삽입: {stack}')\n",
        "\n",
        "def pop(): #스택에 값 빼기\n",
        "  a = 0\n",
        "  a = stack[-1]\n",
        "  print(f'계산을 위한 스택 빼기: {a}')\n",
        "  stack.remove(a)\n",
        "  return a\n",
        "\n",
        "print(\"계산식을 후위표기법으로 입력하세요.\\n연산자와 피연산자를 ,(콤마)로 분리해서 입력해주세요.\")\n",
        "a = input().split(\",\")\n",
        "print(a)\n",
        "\n",
        "for i in a:\n",
        "  if i == \"+\" or i == \"-\" or i == \"*\" or i == \"/\":\n",
        "    data1 = pop()  #한 개씩 값을 맨 마지막부터 빼오기\n",
        "    data2 = pop()\n",
        "    if i == \"+\":\n",
        "      push(data2 + data1)\n",
        "    elif i == \"-\":\n",
        "      push(data2 - data1)\n",
        "    elif i == \"*\":\n",
        "      push(data2 * data1)\n",
        "    elif i == \"/\":\n",
        "      push(data2 / data1)\n",
        "  else:\n",
        "    push(i)\n",
        ""
      ],
      "metadata": {
        "colab": {
          "base_uri": "https://localhost:8080/"
        },
        "id": "naNeJ3_yzXan",
        "outputId": "5c4a6fd9-8f32-4da7-aecf-a431a9b2f97a"
      },
      "execution_count": 30,
      "outputs": [
        {
          "output_type": "stream",
          "name": "stdout",
          "text": [
            "계산식을 후위표기법으로 입력하세요.\n",
            "연산자와 피연산자를 ,(콤마)로 분리해서 입력해주세요.\n",
            "1,2,+\n",
            "['1', '2', '+']\n",
            "삽입: [1]\n",
            "삽입: [1, 2]\n",
            "계산을 위한 스택 빼기: 2\n",
            "계산을 위한 스택 빼기: 1\n",
            "삽입: [3]\n"
          ]
        }
      ]
    },
    {
      "cell_type": "code",
      "source": [
        "qq = [1, 2, 3]\n",
        "\n",
        "print(f'현재의 큐:{qq}')"
      ],
      "metadata": {
        "colab": {
          "base_uri": "https://localhost:8080/"
        },
        "id": "n4OG2om875Nn",
        "outputId": "b31968e4-980a-4011-820a-6cedcf4c154c"
      },
      "execution_count": 31,
      "outputs": [
        {
          "output_type": "stream",
          "name": "stdout",
          "text": [
            "현재의 큐:[1, 2, 3]\n"
          ]
        }
      ]
    },
    {
      "cell_type": "code",
      "source": [
        "qq.append(4)\n",
        "qq.append(5)\n",
        "print(f'추가 이후 큐:{qq}')"
      ],
      "metadata": {
        "colab": {
          "base_uri": "https://localhost:8080/"
        },
        "id": "ffY-Cuh_8Lj1",
        "outputId": "e7f7e806-0fe5-4756-8999-13bd325fbfb4"
      },
      "execution_count": 32,
      "outputs": [
        {
          "output_type": "stream",
          "name": "stdout",
          "text": [
            "추가 이후 큐:[1, 2, 3, 4, 5]\n"
          ]
        }
      ]
    },
    {
      "cell_type": "code",
      "source": [
        "qq.pop(0) #들어온 순서에 따라 삭제, 맨 앞의 값 삭제\n",
        "print(\"맨 앞의 값 삭제 후 큐: \")"
      ],
      "metadata": {
        "id": "H0OsBqAL8cqY"
      },
      "execution_count": null,
      "outputs": []
    },
    {
      "cell_type": "markdown",
      "source": [
        "# **활동하기 4**"
      ],
      "metadata": {
        "id": "kmHniX-X9Gnq"
      }
    },
    {
      "cell_type": "code",
      "source": [
        "bankNum = 100 #시작값\n",
        "queue = list()\n",
        "\n",
        "def enqueue(data):\n",
        "  queue.append(data)\n",
        "\n",
        "def dequeue():\n",
        "  if len(queue) == 0:\n",
        "    print(\"큐가 비었습니다.\")\n",
        "  else:\n",
        "    dq = queue[0]\n",
        "    queue.remove(dq)\n",
        "    return dq\n",
        "\n",
        "\n",
        "while(1):\n",
        "  print(\"다음 중 선택하세요\\n[1]대기표뽑기\\n[2]업무처리\\n[3]종료\\n\")\n",
        "  select = input()\n",
        "\n",
        "  if select == '1':\n",
        "    enqueue(bankNum)\n",
        "    bankNum = bankNum + 1\n",
        "    print(f\"현재 나의 대기번호: {bankNum}\")\n",
        "  elif select == '2':\n",
        "    a = dequeue()\n",
        "    print(f\"현재 업무 진행 중인 번호: {a}\")\n",
        "  elif select == '3':\n",
        "    break\n",
        "  else:\n",
        "    print(\"잘못 입력했습니다.\")"
      ],
      "metadata": {
        "colab": {
          "base_uri": "https://localhost:8080/"
        },
        "id": "tHBJ5uWD9exC",
        "outputId": "087cd961-543e-4361-e01d-f1243faee2c7"
      },
      "execution_count": 36,
      "outputs": [
        {
          "name": "stdout",
          "output_type": "stream",
          "text": [
            "다음 중 선택하세요\n",
            "[1]대기표뽑기\n",
            "[2]업무처리\n",
            "[3]종료\n",
            "\n",
            "1\n",
            "현재 나의 대기번호: 101\n",
            "다음 중 선택하세요\n",
            "[1]대기표뽑기\n",
            "[2]업무처리\n",
            "[3]종료\n",
            "\n",
            "2\n",
            "현재 업무 진행 중인 번호: 100\n",
            "다음 중 선택하세요\n",
            "[1]대기표뽑기\n",
            "[2]업무처리\n",
            "[3]종료\n",
            "\n",
            "3\n"
          ]
        }
      ]
    },
    {
      "cell_type": "markdown",
      "source": [
        "# **추가**\n",
        "# 택배 관리 프로그램 구현\n",
        "가장 나중에 넣은 택배 정보 찾기 알고리즘:\n",
        "\n",
        "스택 구조를 이용해 가장 나중에 넣은 택배 정보를 찾아서 해당 택배의 주소와 전화번호를 출력하는 알고리즘"
      ],
      "metadata": {
        "id": "SXPXTyeuCDe9"
      }
    },
    {
      "cell_type": "code",
      "source": [
        "#스택응용버전 - 일상생활에서의 문제를 이용한\n",
        "stackt = list() #빈 리스트\n",
        "\n",
        "def push():\n",
        "  company = input(\"택배 회사: \")\n",
        "  trackNum = input(\"운송장 번호: \")\n",
        "  address = input(\"받는 사람 주소: \")\n",
        "  phone = input(\"받는 사람 전화번호: \")\n",
        "\n",
        "  one = {'택배회사' : company, '운송장번호' : trackNum, '받는 주소' : address, '수령자 연락처' :phone }\n",
        "  stack.append(one)\n",
        "  print(stack)\n",
        "\n",
        "\n",
        "while(1):\n",
        "  print(\"다음 중 선택하세요\\n[1]택배추가\\n[2]가장 나중에 추가한 택배 정보 확인하기\\n[3]종료\\n\")\n",
        "  select = input()\n",
        "\n",
        "  if select == '1':\n",
        "    push()\n",
        "    print()\n",
        "  elif select == '2':\n",
        "    print()\n",
        "  elif select == '3':\n",
        "    break\n",
        "  else:\n",
        "    print(\"잘못 입력했습니다.\")\n"
      ],
      "metadata": {
        "colab": {
          "base_uri": "https://localhost:8080/"
        },
        "id": "KfKs8BsNCGEM",
        "outputId": "0c9fa4f4-e590-400f-ffaf-c5b7376c9526"
      },
      "execution_count": 37,
      "outputs": [
        {
          "name": "stdout",
          "output_type": "stream",
          "text": [
            "다음 중 선택하세요\n",
            "[1]택배추가\n",
            "[2]가장 나중에 추가한 택배 정보 확인하기\n",
            "[3]종료\n",
            "\n",
            "1\n",
            "택배 회사: 우체국택배\n",
            "운송장 번호: 3665282438234\n",
            "받는 사람 주소: 최진우\n",
            "받는 사람 전화번호: 01030003000\n",
            "[3, {'택배회사': '우체국택배', '운송장번호': '3665282438234', '받는 주소': '최진우', '수령자 연락처': '01030003000'}]\n",
            "\n",
            "다음 중 선택하세요\n",
            "[1]택배추가\n",
            "[2]가장 나중에 추가한 택배 정보 확인하기\n",
            "[3]종료\n",
            "\n",
            "1\n",
            "택배 회사: CJ 대한통운\n",
            "운송장 번호: 43277172374\n",
            "받는 사람 주소: 뭉탱이\n",
            "받는 사람 전화번호: 01012341234\n",
            "[3, {'택배회사': '우체국택배', '운송장번호': '3665282438234', '받는 주소': '최진우', '수령자 연락처': '01030003000'}, {'택배회사': 'CJ 대한통운', '운송장번호': '43277172374', '받는 주소': '뭉탱이', '수령자 연락처': '01012341234'}]\n",
            "\n",
            "다음 중 선택하세요\n",
            "[1]택배추가\n",
            "[2]가장 나중에 추가한 택배 정보 확인하기\n",
            "[3]종료\n",
            "\n",
            "3\n"
          ]
        }
      ]
    }
  ]
}