{
  "nbformat": 4,
  "nbformat_minor": 0,
  "metadata": {
    "colab": {
      "provenance": [],
      "authorship_tag": "ABX9TyOqOo98CN8J4v6tDtjYlIla",
      "include_colab_link": true
    },
    "kernelspec": {
      "name": "python3",
      "display_name": "Python 3"
    },
    "language_info": {
      "name": "python"
    }
  },
  "cells": [
    {
      "cell_type": "markdown",
      "metadata": {
        "id": "view-in-github",
        "colab_type": "text"
      },
      "source": [
        "<a href=\"https://colab.research.google.com/github/StaticDoDoubleG/PSTP_Workspace/blob/main/0627_Functions_and_Iterators.ipynb\" target=\"_parent\"><img src=\"https://colab.research.google.com/assets/colab-badge.svg\" alt=\"Open In Colab\"/></a>"
      ]
    },
    {
      "cell_type": "markdown",
      "source": [
        "# **[Function, 함수]**\n",
        "반복적으로 사용하는 코드는 함수로 정의하여 관리\n",
        "\n",
        "사용자 정의 함수\n"
      ],
      "metadata": {
        "id": "u1v-2_vMPJcK"
      }
    },
    {
      "cell_type": "code",
      "execution_count": 6,
      "metadata": {
        "colab": {
          "base_uri": "https://localhost:8080/"
        },
        "id": "T9I7mGERMtZX",
        "outputId": "756f2395-9e3a-488d-bc01-3675366a3296"
      },
      "outputs": [
        {
          "output_type": "stream",
          "name": "stdout",
          "text": [
            "안녕!! 멍머이!\n",
            "멍머이님\n",
            "안녕하세요!\n",
            "오늘은 6월 27일입니다.\n",
            "멍머이님\n",
            "안녕하세요!\n",
            "오늘은 6월 27일입니다.\n",
            "건더기님\n",
            "안녕하세요!\n",
            "오늘은 6월 29일입니다.\n"
          ]
        }
      ],
      "source": [
        "#------함수를 정의하는 방법 - 말 그대로 함수를 정의\n",
        "#def 함수이름(매개변수):\n",
        "#  실행할 문장\n",
        "#------함수 호출 - 정의한 함수를 호출(필요 시)\n",
        "#함수이름(인수)\n",
        "\n",
        "#함수 정의\n",
        "def hello(str):\n",
        "  print(f\"안녕!! {str}!\")\n",
        "#함수 호출(Call)\n",
        "hello('멍머이')\n",
        "\n",
        "def helloplus(name, month, day):\n",
        "  print(f\"{name}님\\n안녕하세요!\")\n",
        "  print(f\"오늘은 {month}월 {day}일입니다.\")\n",
        "#매개변수가 3개면 인수도 3개\n",
        "helloplus('멍머이', 6, 27)\n",
        "\n",
        "def helloplus1(name, month, day = 29):\n",
        "  print(f\"{name}님\\n안녕하세요!\")\n",
        "  print(f\"오늘은 {month}월 {day}일입니다.\")\n",
        "#매개변수가 3개면 인수도 3개\n",
        "helloplus1('멍머이', 6, 27) #세번째 매개변수가 세번째 인수로 덮어쓰기됨\n",
        "helloplus1('건더기', 6) #사전 지정의 경우 초기화된 값이 적용됨, 오류 아님\n"
      ]
    },
    {
      "cell_type": "markdown",
      "source": [
        "# **[Default Function]**\n",
        "사용자가 특별히 값을 넘겨주지 않으면 매개변수에 기본값 정해주는 인수.\n",
        "\n",
        "디폴트 인수를 사용하는 경우, 기본값이 정해진 인수는 생략가능."
      ],
      "metadata": {
        "id": "Tv0r-ZHQTmbM"
      }
    },
    {
      "cell_type": "code",
      "source": [
        "def print_line(symbol=\"*\", num=3):\n",
        "  for i in range(1,num+1):\n",
        "    print(symbol*i)\n",
        "\n",
        "print_line()\n",
        "print_line(\"#\",5)"
      ],
      "metadata": {
        "colab": {
          "base_uri": "https://localhost:8080/"
        },
        "id": "amZvJgmLT-xH",
        "outputId": "b476030f-3b52-40c9-bca3-c92430a7403f"
      },
      "execution_count": 7,
      "outputs": [
        {
          "output_type": "stream",
          "name": "stdout",
          "text": [
            "*\n",
            "**\n",
            "***\n",
            "#\n",
            "##\n",
            "###\n",
            "####\n",
            "#####\n"
          ]
        }
      ]
    },
    {
      "cell_type": "code",
      "source": [
        "def f_call(name = \"레오\", age = 20):\n",
        "  print(f'이름: {name}, 나이: {age}')\n",
        "\n",
        "f_call()\n",
        "f_call('뭉탱이')"
      ],
      "metadata": {
        "colab": {
          "base_uri": "https://localhost:8080/"
        },
        "id": "Z_OkqjLNUPQO",
        "outputId": "b4efcb14-d97c-4bac-bce7-60b583f5e19f"
      },
      "execution_count": 10,
      "outputs": [
        {
          "output_type": "stream",
          "name": "stdout",
          "text": [
            "이름: 레오, 나이: 20\n",
            "이름: 뭉탱이, 나이: 20\n"
          ]
        }
      ]
    },
    {
      "cell_type": "code",
      "source": [
        "def sum(a, b):\n",
        "  c = a + b\n",
        "  return c\n",
        "\n",
        "result = sum(4, 5)\n",
        "print(f'두 수의 합: {result}')"
      ],
      "metadata": {
        "colab": {
          "base_uri": "https://localhost:8080/"
        },
        "id": "tDrB82EBU9ry",
        "outputId": "a51eb4c3-7461-4869-c85c-199be8abb534"
      },
      "execution_count": 14,
      "outputs": [
        {
          "output_type": "stream",
          "name": "stdout",
          "text": [
            "두 수의 합: 9\n"
          ]
        }
      ]
    },
    {
      "cell_type": "code",
      "source": [
        "def sum_avg(a, b):\n",
        "  c = a + b\n",
        "  avg = c / 2\n",
        "  return c, avg\n",
        "\n",
        "sum, avg = sum_avg(4, 5)\n",
        "print(f'두 수의 합: {sum}\\n두 수의 평균: {avg}')"
      ],
      "metadata": {
        "colab": {
          "base_uri": "https://localhost:8080/"
        },
        "id": "OQTpTMYbV2g3",
        "outputId": "33cf65a0-7d88-4ded-faa9-7924f00d4669"
      },
      "execution_count": 15,
      "outputs": [
        {
          "output_type": "stream",
          "name": "stdout",
          "text": [
            "두 수의 합: 9\n",
            "두 수의 평균: 4.5\n"
          ]
        }
      ]
    },
    {
      "cell_type": "markdown",
      "source": [
        "전역변수: 함수 밖에서 변수 정의하여 함수 내외부 전체에서 모두 사용되는 변수\n",
        "\n",
        "지역변수: 변수가 함수 내부에서 정의되어 함수 안에서만 사용 가능한 변수로 함수 외부에서는 함수 내부에 정의된 변수가 어떤 것이 정의되어 있는지 알 수 없음"
      ],
      "metadata": {
        "id": "BUI-OLqPWlop"
      }
    },
    {
      "cell_type": "code",
      "source": [
        "i=96 #전역변수\n",
        "def var_func1():\n",
        "  print(\"i의 값은 {}\".format(i))\n",
        "def var_func2():\n",
        "  i=12 #지역변수\n",
        "  print(\"i의 값은 {}\".format(i))\n",
        "var_func1()\n",
        "var_func2()"
      ],
      "metadata": {
        "colab": {
          "base_uri": "https://localhost:8080/"
        },
        "id": "Sbhw5f4SW1ZY",
        "outputId": "6b6a5f1b-bb61-4253-846c-5cacd29bc955"
      },
      "execution_count": 16,
      "outputs": [
        {
          "output_type": "stream",
          "name": "stdout",
          "text": [
            "i의 값은 96\n",
            "i의 값은 12\n"
          ]
        }
      ]
    },
    {
      "cell_type": "code",
      "source": [
        "i=10 #전역변수\n",
        "def var_func1():\n",
        "  print(f'i = {i} 은/는 전역변수')\n",
        "def var_func2():\n",
        "  i=20 #지역변수\n",
        "  print(f'i = {i} 은/는 지역변수')\n",
        "var_func1()\n",
        "var_func2()\n",
        "print(f'i = {i} 은/는 전역변수')"
      ],
      "metadata": {
        "colab": {
          "base_uri": "https://localhost:8080/"
        },
        "id": "kTyBm8HdXQRv",
        "outputId": "c0d3fa88-d6c5-4e2f-9c10-30002fab9579"
      },
      "execution_count": 20,
      "outputs": [
        {
          "output_type": "stream",
          "name": "stdout",
          "text": [
            "i = 10 은/는 전역변수\n",
            "i = 20 은/는 지역변수\n",
            "i = 10 은/는 전역변수\n"
          ]
        }
      ]
    },
    {
      "cell_type": "code",
      "source": [
        "k = 0 #전역변수\n",
        "\n",
        "def aaa():\n",
        "  global k\n",
        "  k = 10 #지역변수\n",
        "  print(k)\n",
        "\n",
        "aaa()\n",
        "print(f'k = {k} ')"
      ],
      "metadata": {
        "colab": {
          "base_uri": "https://localhost:8080/"
        },
        "id": "kFgWSmVGYcmz",
        "outputId": "99c21ed3-4c1c-491e-863e-df166539d107"
      },
      "execution_count": 24,
      "outputs": [
        {
          "output_type": "stream",
          "name": "stdout",
          "text": [
            "10\n",
            "k = 10 \n"
          ]
        }
      ]
    },
    {
      "cell_type": "code",
      "source": [
        "result = 0\n",
        "\n",
        "def add(a,b):\n",
        "  result = a + b\n",
        "  return result\n",
        "\n",
        "result = add(1,2)\n",
        "print(\"두 수의 합은 {} 이다.\".format(result))\n",
        "\n",
        "def substraction(a, b):\n",
        "  result = a - b\n",
        "  return result\n",
        "\n",
        "result = substraction(1,2)\n",
        "print(\"두 수의 차는 {} 이다.\".format(result))\n",
        "\n",
        "def multiply(a, b):\n",
        "  result = a * b\n",
        "  return result\n",
        "\n",
        "result = multiply(1,2)\n",
        "print(\"두 수의 곱은 {} 이다.\".format(result))\n",
        "\n",
        "def divide(a, b):\n",
        "  global result\n",
        "  result = a / b\n",
        "  return result\n",
        "\n",
        "divide(1,2)\n",
        "print(\"두 수의 몫은 {} 이다.\".format(result))\n"
      ],
      "metadata": {
        "colab": {
          "base_uri": "https://localhost:8080/"
        },
        "id": "qNyKkpPEaC5X",
        "outputId": "8f98082b-76d0-4733-99da-32b694d69942"
      },
      "execution_count": 27,
      "outputs": [
        {
          "output_type": "stream",
          "name": "stdout",
          "text": [
            "두 수의 합은 3 이다.\n",
            "두 수의 차는 -1 이다.\n",
            "두 수의 곱은 2 이다.\n",
            "두 수의 몫은 0.5 이다.\n"
          ]
        }
      ]
    },
    {
      "cell_type": "code",
      "source": [
        "import random\n",
        "import math\n",
        "random.sample(range(1, 46), 6)\n",
        "print(math.ceil(3.14)) #올림\n",
        "print(round(3.14)) #반올림\n",
        "print(math.floor(3.97)) #내림\n",
        "print(round(3.97)) #반올림"
      ],
      "metadata": {
        "colab": {
          "base_uri": "https://localhost:8080/"
        },
        "id": "_n--MWPncfMh",
        "outputId": "ad4564ef-3ce6-432e-d1ec-820fcd481b9c"
      },
      "execution_count": 31,
      "outputs": [
        {
          "output_type": "stream",
          "name": "stdout",
          "text": [
            "4\n",
            "3\n",
            "3\n",
            "4\n"
          ]
        }
      ]
    },
    {
      "cell_type": "markdown",
      "source": [
        "# **활동하기 1**"
      ],
      "metadata": {
        "id": "T5xmNpWuZ7Wg"
      }
    },
    {
      "cell_type": "code",
      "source": [
        "def countNumber(numbers, k):\n",
        "  counter = 0\n",
        "  for i in range(len(numbers)):\n",
        "    if numbers[i] == k:\n",
        "      counter += 1\n",
        "  return counter\n",
        "num = [ 1, 7, 2, 4, 2, 3, 7, 4, 5 ]\n",
        "print(f'총 {countNumber(num, 4)}회')"
      ],
      "metadata": {
        "colab": {
          "base_uri": "https://localhost:8080/"
        },
        "id": "WRYo00imh8NS",
        "outputId": "97ad887e-e3c7-42a2-b169-9ffa9116e6e9"
      },
      "execution_count": 33,
      "outputs": [
        {
          "output_type": "stream",
          "name": "stdout",
          "text": [
            "총 2회\n"
          ]
        }
      ]
    },
    {
      "cell_type": "code",
      "source": [
        "def cn(a, k):\n",
        "  for i in range(len(a)):\n",
        "    print(f'인덱스[{i}]')\n",
        "    if a[i] == k:\n",
        "      print(f'{k}와 같은 인덱스[{i}]')\n",
        "\n",
        "num = [1, 7, 2, 4, 2, 3, 7, 4, 5,]\n",
        "result = cn(num, 4)\n",
        "print(f'총 {result}번 나옴')"
      ],
      "metadata": {
        "colab": {
          "base_uri": "https://localhost:8080/"
        },
        "id": "4ODt-z9lj8Cq",
        "outputId": "18dd2653-760d-4bab-ddfb-3c977d106422"
      },
      "execution_count": 37,
      "outputs": [
        {
          "output_type": "stream",
          "name": "stdout",
          "text": [
            "인덱스[0]\n",
            "인덱스[1]\n",
            "인덱스[2]\n",
            "인덱스[3]\n",
            "4와 같은 인덱스[3]\n",
            "인덱스[4]\n",
            "인덱스[5]\n",
            "인덱스[6]\n",
            "인덱스[7]\n",
            "4와 같은 인덱스[7]\n",
            "인덱스[8]\n",
            "총 None번 나옴\n"
          ]
        }
      ]
    },
    {
      "cell_type": "markdown",
      "source": [
        "# **활동하기 2**"
      ],
      "metadata": {
        "id": "uwI9TJkoiehg"
      }
    },
    {
      "cell_type": "code",
      "source": [
        "print(\"1~7까지 중 5를 만나면 반복문을 빠져나오는 경우의 실행결과:\", end=\" \")\n",
        "for i in range(8):\n",
        "  if i == 5:\n",
        "    break # i가 5가 되면 for 구문 자체를 끝내게 됨\n",
        "  print( i, end = \" \" )\n",
        "print() # 출력에서 줄 바꿈 수행\n",
        "print(\"1~7까지 중 3 또는 5를 제외한 나머지를 출력한 실행결과:\", end=\" \")\n",
        "for i in range(8):\n",
        "  if i in [3,5]:\n",
        "    continue # i가 3 or 5가 되면 print(i)수행하지 않고 다음 반복단계 계속 진행\n",
        "  print( i, end = \" \" )\n",
        "print()\n"
      ],
      "metadata": {
        "colab": {
          "base_uri": "https://localhost:8080/"
        },
        "id": "VSi1gwlSiZ5Z",
        "outputId": "482379cd-5546-429b-dbb5-f2e176c5ab77"
      },
      "execution_count": 34,
      "outputs": [
        {
          "output_type": "stream",
          "name": "stdout",
          "text": [
            "1~7까지 중 5를 만나면 반복문을 빠져나오는 경우의 실행결과: 0 1 2 3 4 \n",
            "1~7까지 중 3 또는 5를 제외한 나머지를 출력한 실행결과: 0 1 2 4 6 7 \n"
          ]
        }
      ]
    },
    {
      "cell_type": "markdown",
      "source": [
        "# **활동하기 3**"
      ],
      "metadata": {
        "id": "ugB1B5rylvaG"
      }
    },
    {
      "cell_type": "code",
      "source": [
        "for i in range(1,31):\n",
        "  if i>=30:\n",
        "    break\n",
        "  if i%2==0:\n",
        "    continue\n",
        "  print(\"{} \".format(i), end=\" \")\n",
        "\n",
        "print()\n",
        "\n",
        "for i in range(31):\n",
        "  i=i+1\n",
        "  if i>=30:\n",
        "    break\n",
        "  if i%2==0:\n",
        "    continue\n",
        "  print(\"{} \".format(i), end=\" \")\n",
        "\n",
        "print()\n",
        "\n",
        "i=0\n",
        "while True:\n",
        "  i=i+1\n",
        "  if i>=30:\n",
        "    break #반복문을 빠져나가\n",
        "  if i%2==0:\n",
        "    continue\n",
        "  print(\"{} \".format(i), end=\" \")\n"
      ],
      "metadata": {
        "colab": {
          "base_uri": "https://localhost:8080/"
        },
        "id": "F8fY4_JDlxVG",
        "outputId": "11c4ea8c-c0d4-41b1-93bc-f818aab01760"
      },
      "execution_count": 39,
      "outputs": [
        {
          "output_type": "stream",
          "name": "stdout",
          "text": [
            "1  3  5  7  9  11  13  15  17  19  21  23  25  27  29  \n",
            "1  3  5  7  9  11  13  15  17  19  21  23  25  27  29  \n",
            "1  3  5  7  9  11  13  15  17  19  21  23  25  27  29  "
          ]
        }
      ]
    },
    {
      "cell_type": "markdown",
      "source": [
        "# **활동하기 4**"
      ],
      "metadata": {
        "id": "F_B0ku9ur_qK"
      }
    },
    {
      "cell_type": "code",
      "source": [
        "num = 1\n",
        "while num <= 5:\n",
        "  for i in range(1, num + 1):\n",
        "    print(i, end=' ')\n",
        "  print()\n",
        "  num += 1\n",
        "\n",
        "for num in range(1, 6):\n",
        "  for i in range(1, num + 1):\n",
        "    print(i, end=' ')\n",
        "  print()"
      ],
      "metadata": {
        "id": "tL6vXT_8p2NX"
      },
      "execution_count": null,
      "outputs": []
    },
    {
      "cell_type": "markdown",
      "source": [
        "# **활동하기 5**"
      ],
      "metadata": {
        "id": "2zsd-lIvr6SW"
      }
    },
    {
      "cell_type": "code",
      "source": [
        "num = int(input(\"시작값:\"))\n",
        "e_num=int(input(\"종료값:\"))\n",
        "while num <= e_num:\n",
        "  for i in range(1, num + 1):\n",
        "    print('*', end=' ')\n",
        "  print()\n",
        "  num += 1\n"
      ],
      "metadata": {
        "id": "F12hqbYSqFXn"
      },
      "execution_count": null,
      "outputs": []
    },
    {
      "cell_type": "markdown",
      "source": [
        "# **활동하기 6**"
      ],
      "metadata": {
        "id": "txJnsZIUrw27"
      }
    },
    {
      "cell_type": "code",
      "source": [
        "num = 2\n",
        "while num <= 9:\n",
        "  print(f\"구구단 {num}단:\")\n",
        "  for i in range(1, 10):\n",
        "    result = num * i\n",
        "    print(f\"{num} x {i} = {result}\")\n",
        "  print()\n",
        "  num += 1\n",
        "\n",
        "for num in range(2, 10):\n",
        "  print(f\"구구단 {num}단:\")\n",
        "  for i in range(1, 10):\n",
        "    result = num * i\n",
        "    print(f\"{num} x {i} = {result}\")\n",
        "  print()"
      ],
      "metadata": {
        "colab": {
          "base_uri": "https://localhost:8080/"
        },
        "id": "uEQkd1_xqOxe",
        "outputId": "20dc832d-83c8-45c4-c963-fae3f38cdee1"
      },
      "execution_count": 40,
      "outputs": [
        {
          "output_type": "stream",
          "name": "stdout",
          "text": [
            "구구단 2단:\n",
            "2 x 1 = 2\n",
            "2 x 2 = 4\n",
            "2 x 3 = 6\n",
            "2 x 4 = 8\n",
            "2 x 5 = 10\n",
            "2 x 6 = 12\n",
            "2 x 7 = 14\n",
            "2 x 8 = 16\n",
            "2 x 9 = 18\n",
            "\n",
            "구구단 3단:\n",
            "3 x 1 = 3\n",
            "3 x 2 = 6\n",
            "3 x 3 = 9\n",
            "3 x 4 = 12\n",
            "3 x 5 = 15\n",
            "3 x 6 = 18\n",
            "3 x 7 = 21\n",
            "3 x 8 = 24\n",
            "3 x 9 = 27\n",
            "\n",
            "구구단 4단:\n",
            "4 x 1 = 4\n",
            "4 x 2 = 8\n",
            "4 x 3 = 12\n",
            "4 x 4 = 16\n",
            "4 x 5 = 20\n",
            "4 x 6 = 24\n",
            "4 x 7 = 28\n",
            "4 x 8 = 32\n",
            "4 x 9 = 36\n",
            "\n",
            "구구단 5단:\n",
            "5 x 1 = 5\n",
            "5 x 2 = 10\n",
            "5 x 3 = 15\n",
            "5 x 4 = 20\n",
            "5 x 5 = 25\n",
            "5 x 6 = 30\n",
            "5 x 7 = 35\n",
            "5 x 8 = 40\n",
            "5 x 9 = 45\n",
            "\n",
            "구구단 6단:\n",
            "6 x 1 = 6\n",
            "6 x 2 = 12\n",
            "6 x 3 = 18\n",
            "6 x 4 = 24\n",
            "6 x 5 = 30\n",
            "6 x 6 = 36\n",
            "6 x 7 = 42\n",
            "6 x 8 = 48\n",
            "6 x 9 = 54\n",
            "\n",
            "구구단 7단:\n",
            "7 x 1 = 7\n",
            "7 x 2 = 14\n",
            "7 x 3 = 21\n",
            "7 x 4 = 28\n",
            "7 x 5 = 35\n",
            "7 x 6 = 42\n",
            "7 x 7 = 49\n",
            "7 x 8 = 56\n",
            "7 x 9 = 63\n",
            "\n",
            "구구단 8단:\n",
            "8 x 1 = 8\n",
            "8 x 2 = 16\n",
            "8 x 3 = 24\n",
            "8 x 4 = 32\n",
            "8 x 5 = 40\n",
            "8 x 6 = 48\n",
            "8 x 7 = 56\n",
            "8 x 8 = 64\n",
            "8 x 9 = 72\n",
            "\n",
            "구구단 9단:\n",
            "9 x 1 = 9\n",
            "9 x 2 = 18\n",
            "9 x 3 = 27\n",
            "9 x 4 = 36\n",
            "9 x 5 = 45\n",
            "9 x 6 = 54\n",
            "9 x 7 = 63\n",
            "9 x 8 = 72\n",
            "9 x 9 = 81\n",
            "\n",
            "구구단 2단:\n",
            "2 x 1 = 2\n",
            "2 x 2 = 4\n",
            "2 x 3 = 6\n",
            "2 x 4 = 8\n",
            "2 x 5 = 10\n",
            "2 x 6 = 12\n",
            "2 x 7 = 14\n",
            "2 x 8 = 16\n",
            "2 x 9 = 18\n",
            "\n",
            "구구단 3단:\n",
            "3 x 1 = 3\n",
            "3 x 2 = 6\n",
            "3 x 3 = 9\n",
            "3 x 4 = 12\n",
            "3 x 5 = 15\n",
            "3 x 6 = 18\n",
            "3 x 7 = 21\n",
            "3 x 8 = 24\n",
            "3 x 9 = 27\n",
            "\n",
            "구구단 4단:\n",
            "4 x 1 = 4\n",
            "4 x 2 = 8\n",
            "4 x 3 = 12\n",
            "4 x 4 = 16\n",
            "4 x 5 = 20\n",
            "4 x 6 = 24\n",
            "4 x 7 = 28\n",
            "4 x 8 = 32\n",
            "4 x 9 = 36\n",
            "\n",
            "구구단 5단:\n",
            "5 x 1 = 5\n",
            "5 x 2 = 10\n",
            "5 x 3 = 15\n",
            "5 x 4 = 20\n",
            "5 x 5 = 25\n",
            "5 x 6 = 30\n",
            "5 x 7 = 35\n",
            "5 x 8 = 40\n",
            "5 x 9 = 45\n",
            "\n",
            "구구단 6단:\n",
            "6 x 1 = 6\n",
            "6 x 2 = 12\n",
            "6 x 3 = 18\n",
            "6 x 4 = 24\n",
            "6 x 5 = 30\n",
            "6 x 6 = 36\n",
            "6 x 7 = 42\n",
            "6 x 8 = 48\n",
            "6 x 9 = 54\n",
            "\n",
            "구구단 7단:\n",
            "7 x 1 = 7\n",
            "7 x 2 = 14\n",
            "7 x 3 = 21\n",
            "7 x 4 = 28\n",
            "7 x 5 = 35\n",
            "7 x 6 = 42\n",
            "7 x 7 = 49\n",
            "7 x 8 = 56\n",
            "7 x 9 = 63\n",
            "\n",
            "구구단 8단:\n",
            "8 x 1 = 8\n",
            "8 x 2 = 16\n",
            "8 x 3 = 24\n",
            "8 x 4 = 32\n",
            "8 x 5 = 40\n",
            "8 x 6 = 48\n",
            "8 x 7 = 56\n",
            "8 x 8 = 64\n",
            "8 x 9 = 72\n",
            "\n",
            "구구단 9단:\n",
            "9 x 1 = 9\n",
            "9 x 2 = 18\n",
            "9 x 3 = 27\n",
            "9 x 4 = 36\n",
            "9 x 5 = 45\n",
            "9 x 6 = 54\n",
            "9 x 7 = 63\n",
            "9 x 8 = 72\n",
            "9 x 9 = 81\n",
            "\n"
          ]
        }
      ]
    },
    {
      "cell_type": "code",
      "source": [
        "dan = 2\n",
        "while dan <= 9:\n",
        "  print(f'{dan}단')\n",
        "  for i in range(1, 10):\n",
        "    print(f'{dan} * {i} = {dan * i}')\n",
        "  print(\"-\"*10)\n",
        "  dan = dan + 1"
      ],
      "metadata": {
        "colab": {
          "base_uri": "https://localhost:8080/"
        },
        "id": "i9c99gJpqfQU",
        "outputId": "cb45e3f5-cc39-422b-cf5c-7f4827bd29e1"
      },
      "execution_count": 41,
      "outputs": [
        {
          "output_type": "stream",
          "name": "stdout",
          "text": [
            "2단\n",
            "2 * 1 = 2\n",
            "2 * 2 = 4\n",
            "2 * 3 = 6\n",
            "2 * 4 = 8\n",
            "2 * 5 = 10\n",
            "2 * 6 = 12\n",
            "2 * 7 = 14\n",
            "2 * 8 = 16\n",
            "2 * 9 = 18\n",
            "----------\n",
            "3단\n",
            "3 * 1 = 3\n",
            "3 * 2 = 6\n",
            "3 * 3 = 9\n",
            "3 * 4 = 12\n",
            "3 * 5 = 15\n",
            "3 * 6 = 18\n",
            "3 * 7 = 21\n",
            "3 * 8 = 24\n",
            "3 * 9 = 27\n",
            "----------\n",
            "4단\n",
            "4 * 1 = 4\n",
            "4 * 2 = 8\n",
            "4 * 3 = 12\n",
            "4 * 4 = 16\n",
            "4 * 5 = 20\n",
            "4 * 6 = 24\n",
            "4 * 7 = 28\n",
            "4 * 8 = 32\n",
            "4 * 9 = 36\n",
            "----------\n",
            "5단\n",
            "5 * 1 = 5\n",
            "5 * 2 = 10\n",
            "5 * 3 = 15\n",
            "5 * 4 = 20\n",
            "5 * 5 = 25\n",
            "5 * 6 = 30\n",
            "5 * 7 = 35\n",
            "5 * 8 = 40\n",
            "5 * 9 = 45\n",
            "----------\n",
            "6단\n",
            "6 * 1 = 6\n",
            "6 * 2 = 12\n",
            "6 * 3 = 18\n",
            "6 * 4 = 24\n",
            "6 * 5 = 30\n",
            "6 * 6 = 36\n",
            "6 * 7 = 42\n",
            "6 * 8 = 48\n",
            "6 * 9 = 54\n",
            "----------\n",
            "7단\n",
            "7 * 1 = 7\n",
            "7 * 2 = 14\n",
            "7 * 3 = 21\n",
            "7 * 4 = 28\n",
            "7 * 5 = 35\n",
            "7 * 6 = 42\n",
            "7 * 7 = 49\n",
            "7 * 8 = 56\n",
            "7 * 9 = 63\n",
            "----------\n",
            "8단\n",
            "8 * 1 = 8\n",
            "8 * 2 = 16\n",
            "8 * 3 = 24\n",
            "8 * 4 = 32\n",
            "8 * 5 = 40\n",
            "8 * 6 = 48\n",
            "8 * 7 = 56\n",
            "8 * 8 = 64\n",
            "8 * 9 = 72\n",
            "----------\n",
            "9단\n",
            "9 * 1 = 9\n",
            "9 * 2 = 18\n",
            "9 * 3 = 27\n",
            "9 * 4 = 36\n",
            "9 * 5 = 45\n",
            "9 * 6 = 54\n",
            "9 * 7 = 63\n",
            "9 * 8 = 72\n",
            "9 * 9 = 81\n",
            "----------\n"
          ]
        }
      ]
    },
    {
      "cell_type": "code",
      "source": [
        "num = 1\n",
        "while num <= 5:\n",
        "  #print(f'{num}')\n",
        "  for i in range(1, num + 1):\n",
        "    print(i, end = ' ')\n",
        "  print()\n",
        "  num = num  + 1"
      ],
      "metadata": {
        "colab": {
          "base_uri": "https://localhost:8080/"
        },
        "id": "34_iRYxxq3-R",
        "outputId": "f4a8643b-98cc-492e-8c72-efe3da7cdd32"
      },
      "execution_count": 45,
      "outputs": [
        {
          "output_type": "stream",
          "name": "stdout",
          "text": [
            "1 \n",
            "1 2 \n",
            "1 2 3 \n",
            "1 2 3 4 \n",
            "1 2 3 4 5 \n"
          ]
        }
      ]
    }
  ]
}