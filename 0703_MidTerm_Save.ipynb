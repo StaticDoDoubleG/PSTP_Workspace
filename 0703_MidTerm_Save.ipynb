{
  "nbformat": 4,
  "nbformat_minor": 0,
  "metadata": {
    "colab": {
      "provenance": [],
      "authorship_tag": "ABX9TyPb91we7H8Mm/LlneqGCc9g",
      "include_colab_link": true
    },
    "kernelspec": {
      "name": "python3",
      "display_name": "Python 3"
    },
    "language_info": {
      "name": "python"
    }
  },
  "cells": [
    {
      "cell_type": "markdown",
      "metadata": {
        "id": "view-in-github",
        "colab_type": "text"
      },
      "source": [
        "<a href=\"https://colab.research.google.com/github/StaticDoDoubleG/PSTP_Workspace/blob/main/0703_MidTerm_Save.ipynb\" target=\"_parent\"><img src=\"https://colab.research.google.com/assets/colab-badge.svg\" alt=\"Open In Colab\"/></a>"
      ]
    },
    {
      "cell_type": "markdown",
      "source": [
        "# **구현물**"
      ],
      "metadata": {
        "id": "lWp0iACXJjQ-"
      }
    },
    {
      "cell_type": "code",
      "execution_count": 1,
      "metadata": {
        "colab": {
          "base_uri": "https://localhost:8080/"
        },
        "id": "Oh7UdUjLJYMZ",
        "outputId": "3e26e44b-7c80-4772-8a42-bcd4664c4a78"
      },
      "outputs": [
        {
          "output_type": "stream",
          "name": "stdout",
          "text": [
            "+++삽입되는 순서+++\n",
            "['a']\n",
            "['a', 'b']\n",
            "['a', 'b', 'c']\n",
            "['a', 'b', 'c', 'd']\n",
            "['a', 'b', 'c', 'd', 'e']\n",
            "['a', 'b', 'c', 'd', 'e', 'f']\n",
            "['a', 'b', 'c', 'd', 'e', 'f', 'g']\n",
            "+++삭제되는 순서+++\n",
            "g f e d c b a "
          ]
        }
      ],
      "source": [
        "stackList = list()                    #스택의 값을 담을 빈 리스트\n",
        "\n",
        "def stackPush(value):                 #삽입을 위한 함수 정의\n",
        "  stackList.append(value)             #stackList에 추가\n",
        "  print(stackList)\n",
        "\n",
        "def stackPop():                       #삭제를 위한 함수 정의\n",
        "  print(f'{stackList.pop()}', end = ' ') #삭제값 출력\n",
        "\n",
        "\n",
        "#usrstr = input(\"삽입할 문자들을 입력해주세요. 구분은 ', '(콤마와 띄어쓰기)로 해주세요.\\n\").split(', ')\n",
        "usrstr = 'abcdefg'\n",
        "\n",
        "print(\"+++삽입되는 순서+++\")\n",
        "\n",
        "for i in usrstr:\n",
        "  stackPush(i)                        #삽입 위해 함수 호출\n",
        "\n",
        "print(\"+++삭제되는 순서+++\")\n",
        "\n",
        "while len(stackList) != 0:\n",
        "  stackPop()                          #삭제 위해 함수 호출"
      ]
    },
    {
      "cell_type": "markdown",
      "source": [
        "# **교사용**"
      ],
      "metadata": {
        "id": "-QuxuGdbJgcn"
      }
    },
    {
      "cell_type": "code",
      "source": [
        "s_list = list()  #스택의 값을 담을 빈 리스트\n",
        "\n",
        "def stack_push(value): #삽입을 위한 함수 정의\n",
        "  s_list.append(value)  #s_list에 추가\n",
        "  print(s_list)\n",
        "\n",
        "def stack_pop(): #삭제를 위한 함수 정의\n",
        "  print(\"+++삭제되는 순서+++\")\n",
        "  while len(s_list) != 0:\n",
        "    value = s_list.pop() #맨 마지막 값 삭제\n",
        "    print(f'{value}', end = \" \") #삭제값 출력\n",
        "\n",
        "print(\"+++삽입되는 순서+++\")\n",
        "stack_push('a') #삽입 위해 함수 호출\n",
        "stack_push('b')\n",
        "stack_push('c')\n",
        "stack_push('d')\n",
        "stack_push('e')\n",
        "stack_push('f')\n",
        "stack_push('g')\n",
        "\n",
        "stack_pop() #삭제 위해 함수 호출"
      ],
      "metadata": {
        "id": "z0osKwq7JfzB"
      },
      "execution_count": null,
      "outputs": []
    }
  ]
}