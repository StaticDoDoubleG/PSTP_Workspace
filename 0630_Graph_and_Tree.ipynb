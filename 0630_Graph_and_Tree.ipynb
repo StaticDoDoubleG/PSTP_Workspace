{
  "nbformat": 4,
  "nbformat_minor": 0,
  "metadata": {
    "colab": {
      "provenance": [],
      "authorship_tag": "ABX9TyMkytKNP5aRtOccrjdtfbVM",
      "include_colab_link": true
    },
    "kernelspec": {
      "name": "python3",
      "display_name": "Python 3"
    },
    "language_info": {
      "name": "python"
    }
  },
  "cells": [
    {
      "cell_type": "markdown",
      "metadata": {
        "id": "view-in-github",
        "colab_type": "text"
      },
      "source": [
        "<a href=\"https://colab.research.google.com/github/StaticDoDoubleG/PSTP_Workspace/blob/main/0630_Graph_and_Tree.ipynb\" target=\"_parent\"><img src=\"https://colab.research.google.com/assets/colab-badge.svg\" alt=\"Open In Colab\"/></a>"
      ]
    },
    {
      "cell_type": "code",
      "execution_count": 24,
      "metadata": {
        "colab": {
          "base_uri": "https://localhost:8080/"
        },
        "id": "DpBdX7SD14xf",
        "outputId": "5710971b-c81b-404c-ca11-d7f4bd4e4c59"
      },
      "outputs": [
        {
          "output_type": "stream",
          "name": "stdout",
          "text": [
            "값 입력: 1,3,5,7,9\n",
            "['1', '3', '5', '7', '9']\n",
            "['1']\n",
            "['1', '3']\n",
            "['1', '3', '5']\n",
            "['1', '3', '5', '7']\n",
            "['1', '3', '5', '7', '9']\n",
            "['1', '3', '5', '7']\n",
            "['1', '3', '5']\n"
          ]
        }
      ],
      "source": [
        "lista = list() #빈 리스트\n",
        "def push(data):\n",
        "  for i in data:\n",
        "    lista.append(i)\n",
        "    print(lista)\n",
        "\n",
        "def l_pop():\n",
        "  lista.pop()  #맨 마지막 값 삭제\n",
        "  print(lista)\n",
        "\n",
        "a = input(\"값 입력: \").split(',')\n",
        "print(a)\n",
        "\n",
        "push(a)\n",
        "l_pop()\n",
        "l_pop()\n"
      ]
    },
    {
      "cell_type": "code",
      "source": [
        "push([9])"
      ],
      "metadata": {
        "colab": {
          "base_uri": "https://localhost:8080/"
        },
        "id": "-dEhQam7-1kX",
        "outputId": "ce6d98b5-2f4f-45b7-c795-e7777749429e"
      },
      "execution_count": 25,
      "outputs": [
        {
          "output_type": "stream",
          "name": "stdout",
          "text": [
            "['1', '3', '5', 9]\n"
          ]
        }
      ]
    },
    {
      "cell_type": "code",
      "source": [
        "lists = list()\n",
        "def s_push(data):\n",
        "  lists.append(data)\n",
        "  print(lists)\n",
        "\n",
        "def s_pop():\n",
        "  lists.pop()  #맨 마지막 값 삭제\n",
        "  print(lists)\n",
        "\n",
        "aa = ['야구공', '축구공', '테니스공', '골프공', '배구공']\n",
        "\n",
        "for i in aa:\n",
        "  s_push(i)\n",
        "\n",
        "s_pop()\n",
        "s_pop()\n",
        "s_pop()\n",
        "s_pop()\n",
        "\n",
        "s_push()\n"
      ],
      "metadata": {
        "colab": {
          "base_uri": "https://localhost:8080/"
        },
        "id": "mX0YjMZe_MN2",
        "outputId": "3a33585a-7beb-4ecf-8fbc-5c2e52a3818f"
      },
      "execution_count": 36,
      "outputs": [
        {
          "output_type": "stream",
          "name": "stdout",
          "text": [
            "['야구공']\n",
            "['야구공', '축구공']\n",
            "['야구공', '축구공', '테니스공']\n",
            "['야구공', '축구공', '테니스공', '골프공']\n",
            "['야구공', '축구공', '테니스공', '골프공', '배구공']\n",
            "['야구공', '축구공', '테니스공', '골프공']\n",
            "['야구공', '축구공', '테니스공']\n",
            "['야구공', '축구공']\n",
            "['야구공']\n"
          ]
        }
      ]
    },
    {
      "cell_type": "markdown",
      "source": [
        "# **그래프**"
      ],
      "metadata": {
        "id": "C6jM7V7NCbVr"
      }
    },
    {
      "cell_type": "code",
      "source": [
        "graph = {\n",
        "  'A': ['B', 'D'],\n",
        "  'B': ['A', 'C'],\n",
        "  'C': ['B'],\n",
        "  'D': ['A']\n",
        "}\n",
        "print(graph)"
      ],
      "metadata": {
        "colab": {
          "base_uri": "https://localhost:8080/"
        },
        "id": "GoAo0fLpCavN",
        "outputId": "7e57a27b-45da-4d91-e46e-ac4e03a32bd2"
      },
      "execution_count": 38,
      "outputs": [
        {
          "output_type": "stream",
          "name": "stdout",
          "text": [
            "{'A': ['B', 'D'], 'B': ['A', 'C'], 'C': ['B'], 'D': ['A']}\n"
          ]
        }
      ]
    },
    {
      "cell_type": "markdown",
      "source": [
        "# **활동하기 1**"
      ],
      "metadata": {
        "id": "xUWVLucnIrK1"
      }
    },
    {
      "cell_type": "code",
      "source": [
        "import networkx as nx\n",
        "import matplotlib.pyplot as plt\n",
        "# 무방향 그래프를 딕셔너리로 나타내기\n",
        "graph = {\n",
        "'A': ['B', 'D'],\n",
        "'B': ['A', 'C'],\n",
        "'C': ['B'],\n",
        "'D': ['A']\n",
        "}\n",
        "# 그래프 생성\n",
        "G = nx.Graph(graph)\n",
        "# 그래프 시각화\n",
        "pos = nx.spring_layout(G)\n",
        "nx.draw(G, pos, with_labels=True,\n",
        "node_color='lightblue', node_size=500,\n",
        "edge_color='gray')\n",
        "# 그래프 출력\n",
        "plt.show()"
      ],
      "metadata": {
        "colab": {
          "base_uri": "https://localhost:8080/",
          "height": 516
        },
        "id": "f-O-wwhYDogd",
        "outputId": "878cdcfa-4f4c-4499-fb30-806fffabc9e2"
      },
      "execution_count": 39,
      "outputs": [
        {
          "output_type": "display_data",
          "data": {
            "text/plain": [
              "<Figure size 640x480 with 1 Axes>"
            ],
            "image/png": "[encoded data removed]"
          },
          "metadata": {}
        }
      ]
    },
    {
      "cell_type": "code",
      "source": [
        "import networkx as nx\n",
        "import matplotlib.pyplot as plt\n",
        "# 방향 그래프를 딕셔너리로 나타내기\n",
        "graph = {\n",
        "'A': ['B', 'C'],\n",
        "'B': ['C', 'D'],\n",
        "'C': ['D'],\n",
        "'D': ['A']\n",
        "}\n",
        "# 그래프 생성\n",
        "G = nx.DiGraph(graph)\n",
        "# 그래프 시각화\n",
        "pos = nx.spring_layout(G)\n",
        "nx.draw(G, pos, with_labels=True,\n",
        "node_color='lightblue', node_size=500,\n",
        "arrowstyle='->', linewidths=2,\n",
        "edge_color='gray')\n",
        "# 그래프 출력\n",
        "plt.show()\n"
      ],
      "metadata": {
        "colab": {
          "base_uri": "https://localhost:8080/",
          "height": 516
        },
        "id": "vTOBZO5gDyc1",
        "outputId": "30e8dbc2-8859-4f6a-aff4-10a817849d0f"
      },
      "execution_count": 41,
      "outputs": [
        {
          "output_type": "display_data",
          "data": {
            "text/plain": [
              "<Figure size 640x480 with 1 Axes>"
            ],
            "image/png": "[encoded data removed]"
          },
          "metadata": {}
        }
      ]
    },
    {
      "cell_type": "markdown",
      "source": [
        "# **활동하기 2**"
      ],
      "metadata": {
        "id": "zNT_ciKNIuWN"
      }
    },
    {
      "cell_type": "code",
      "source": [
        "#인접행렬: 간선 존재하면 1(True), 존재하지 않으면 0(False)로 행렬값 표현\n",
        "a,b,c,d,e=range(5)\n",
        "graph_array=[[0,1,1,0,0],[1,0,0,0,1],[1,0,0,1,1],[0,0,1,0,1],[0,1,1,1,0]]\n",
        "print(f'A와 B의 인접행렬 결과 여부(1:인접, 0:인접 아님) : {graph_array[a][b]}')\n",
        "print(f'A와 D의 인접행렬 결과 여부(1:인접, 0:인접 아님) : {graph_array[a][d]}')"
      ],
      "metadata": {
        "colab": {
          "base_uri": "https://localhost:8080/"
        },
        "id": "hnAa2Ae6EHjD",
        "outputId": "14dd023a-4eee-4839-ab89-5a6c9a626e35"
      },
      "execution_count": 42,
      "outputs": [
        {
          "output_type": "stream",
          "name": "stdout",
          "text": [
            "A와 B의 인접행렬 결과 여부(1:인접, 0:인접 아님) : 1\n",
            "A와 D의 인접행렬 결과 여부(1:인접, 0:인접 아님) : 0\n"
          ]
        }
      ]
    },
    {
      "cell_type": "markdown",
      "source": [
        "# **활동하기 3**"
      ],
      "metadata": {
        "id": "VIY4CXXFI_1q"
      }
    },
    {
      "cell_type": "code",
      "source": [
        "#트리 표현하기: 딕셔너리로 표현\n",
        "Tree={'A':['B','C'], 'B':['D','E'],'C':['F','G']}\n",
        "print(Tree)\n",
        "for i in Tree:\n",
        "  print(f'{i}→{Tree[i]}')"
      ],
      "metadata": {
        "colab": {
          "base_uri": "https://localhost:8080/"
        },
        "id": "ACVA2S7JJD4b",
        "outputId": "e0f84a96-771f-4ff2-a5d7-8f8d667da5b9"
      },
      "execution_count": 44,
      "outputs": [
        {
          "output_type": "stream",
          "name": "stdout",
          "text": [
            "{'A': ['B', 'C'], 'B': ['D', 'E'], 'C': ['F', 'G']}\n",
            "A→['B', 'C']\n",
            "B→['D', 'E']\n",
            "C→['F', 'G']\n"
          ]
        }
      ]
    },
    {
      "cell_type": "code",
      "source": [
        "import networkx as nx\n",
        "import matplotlib.pyplot as plt\n",
        "\n",
        "tree = {\n",
        "    'A' : ['B', 'C'],\n",
        "    'B' : ['D', 'E'],\n",
        "    'C' : ['F'],\n",
        "    'D' : [],\n",
        "    'E' : [],\n",
        "    'F' : []\n",
        "}\n",
        "\n",
        "G = nx.Graph(tree) #그래프 생성, Di 안 붙음\n",
        "\n",
        "pos = nx.spring_layout(G)\n",
        "nx.draw(G, pos, with_labels=True,\n",
        "node_color='lightblue', node_size=500,\n",
        "arrowstyle='->', linewidths=2,\n",
        "edge_color='gray')\n",
        "# 그래프 출력\n",
        "plt.show()"
      ],
      "metadata": {
        "colab": {
          "base_uri": "https://localhost:8080/",
          "height": 516
        },
        "id": "4lo2lzAxJing",
        "outputId": "9c66ac0d-2225-4b35-f7ae-a2d156ee7a3d"
      },
      "execution_count": 48,
      "outputs": [
        {
          "output_type": "display_data",
          "data": {
            "text/plain": [
              "<Figure size 640x480 with 1 Axes>"
            ],
            "image/png": "[encoded data removed]"
          },
          "metadata": {}
        }
      ]
    },
    {
      "cell_type": "markdown",
      "source": [
        "# **활동하기 4**"
      ],
      "metadata": {
        "id": "5WSu8CAEJBy7"
      }
    },
    {
      "cell_type": "code",
      "source": [
        "#트리 표현하기: 이중 리스트로 표현\n",
        "Tree=['A',['B',['D','E']], ['C',['F',\"G\"]]]\n",
        "print(Tree)\n",
        "print(Tree[0]) #A\n",
        "print(Tree[1][0]) #B\n",
        "print(Tree[2][0]) #C\n",
        "print(Tree[1][1]) # [D,E]\n",
        "print(Tree[2][1]) # [F,G]\n",
        "print(Tree[1][1][0]) #D\n",
        "print(Tree[1][1][1]) #E\n",
        "print(Tree[2][1][0]) #F\n",
        "print(Tree[2][1][1]) #G"
      ],
      "metadata": {
        "colab": {
          "base_uri": "https://localhost:8080/"
        },
        "id": "SK00jXCGJFDi",
        "outputId": "8d34c0e8-541d-4b58-dd99-bcd2d09c294b"
      },
      "execution_count": 49,
      "outputs": [
        {
          "output_type": "stream",
          "name": "stdout",
          "text": [
            "['A', ['B', ['D', 'E']], ['C', ['F', 'G']]]\n",
            "A\n",
            "B\n",
            "C\n",
            "['D', 'E']\n",
            "['F', 'G']\n",
            "D\n",
            "E\n",
            "F\n",
            "G\n"
          ]
        }
      ]
    }
  ]
}