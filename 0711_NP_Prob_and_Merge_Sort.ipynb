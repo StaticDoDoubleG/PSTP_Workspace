{
  "nbformat": 4,
  "nbformat_minor": 0,
  "metadata": {
    "colab": {
      "provenance": [],
      "authorship_tag": "ABX9TyOhhwGQokRt35TlY/dO3SEh",
      "include_colab_link": true
    },
    "kernelspec": {
      "name": "python3",
      "display_name": "Python 3"
    },
    "language_info": {
      "name": "python"
    }
  },
  "cells": [
    {
      "cell_type": "markdown",
      "metadata": {
        "id": "view-in-github",
        "colab_type": "text"
      },
      "source": [
        "<a href=\"https://colab.research.google.com/github/StaticDoDoubleG/PSTP_Workspace/blob/main/0711_NP_Prob_and_Merge_Sort.ipynb\" target=\"_parent\"><img src=\"https://colab.research.google.com/assets/colab-badge.svg\" alt=\"Open In Colab\"/></a>"
      ]
    },
    {
      "cell_type": "markdown",
      "source": [
        "# **활동하기 1**"
      ],
      "metadata": {
        "id": "qLSvQOPclCv6"
      }
    },
    {
      "cell_type": "code",
      "execution_count": null,
      "metadata": {
        "colab": {
          "base_uri": "https://localhost:8080/"
        },
        "id": "PQN7oJEriod_",
        "outputId": "a29e7f48-6126-442d-ca7f-a19952f53a27"
      },
      "outputs": [
        {
          "output_type": "stream",
          "name": "stdout",
          "text": [
            "거스름으로 바꿀 수 있는 동전 종류: [500, 100, 50, 10]\n",
            "초기 동전의 상태: {500: 0, 100: 0, 50: 0, 10: 0}\n",
            "고객에게 지불할 돈을 입력해주세요: 670\n",
            "\n",
            "500원의 개수: 1\n",
            "500을 뺀 남은 액수: 170\n",
            "\n",
            "100원의 개수: 1\n",
            "100을 뺀 남은 액수: 70\n",
            "\n",
            "50원의 개수: 1\n",
            "50을 뺀 남은 액수: 20\n",
            "\n",
            "10원의 개수: 2\n",
            "10을 뺀 남은 액수: 0\n",
            "\n",
            "따라서, 거스름돈은\n",
            "\t500원짜리 1개\n",
            "\t100원짜리 1개\n",
            "\t50원짜리 1개\n",
            "\t10원짜리 2개\n",
            "지불하면 됩니다.\n"
          ]
        }
      ],
      "source": [
        "coins = [500, 100, 50, 10] #거스름돈 종류\n",
        "#딕셔너리 형식으로 표현, 초기상태\n",
        "result= {500: 0, 100: 0, 50: 0, 10: 0}                                #result={x: 0 for x in coins}로도 표현 가능\n",
        "print(f'거스름으로 바꿀 수 있는 동전 종류: {coins}')\n",
        "print(f'초기 동전의 상태: {result}')\n",
        "pay_money = int(input(\"고객에게 지불할 돈을 입력해주세요: \"))\n",
        "for coin in coins:\n",
        "  print(\"\")\n",
        "  coin_num = pay_money // coin\n",
        "  print(f'{coin}원의 개수: {coin_num}')\n",
        "  pay_money = pay_money - (coin_num * coin)\n",
        "  print(f'{coin}을 뺀 남은 액수: {pay_money}')\n",
        "  result[coin] = coin_num                                             #딕셔너리에 키와 값 대입\n",
        "#print(f'\\n따라서, 거스름돈은 동전별 각각 {result}개 지불하면 됩니다.')\n",
        "print('\\n따라서, 거스름돈은')\n",
        "for coin in coins:\n",
        "  print(f'\\t{coin}원짜리 {result.get(coin)}개')\n",
        "print('지불하면 됩니다.')"
      ]
    },
    {
      "cell_type": "markdown",
      "source": [
        "# **활동하기 2 (X)**"
      ],
      "metadata": {
        "id": "vVcKPqhuqEMv"
      }
    },
    {
      "cell_type": "code",
      "source": [],
      "metadata": {
        "id": "Jj6nD-2CqF9t"
      },
      "execution_count": null,
      "outputs": []
    },
    {
      "cell_type": "markdown",
      "source": [
        "# **활동하기 3 (X)**"
      ],
      "metadata": {
        "id": "uqULDBcRqGKX"
      }
    },
    {
      "cell_type": "code",
      "source": [],
      "metadata": {
        "id": "AmiEtnDvqILu"
      },
      "execution_count": null,
      "outputs": []
    },
    {
      "cell_type": "markdown",
      "source": [
        "# **Merge Sort**"
      ],
      "metadata": {
        "id": "GX1FIw2TuJ9t"
      }
    },
    {
      "cell_type": "code",
      "source": [
        "def merge_sort(list):\n",
        "  if len(list) <= 1: #배열의 길이가 1보다 작거나 같으면\n",
        "    return list\n",
        "  mid = len(list) // 2 #전체 길이 중 절반을 기준으로 잡음 16//2=8\n",
        "  print(f'중앙값: {mid}')\n",
        "  left = list[:mid] #처음부터 중앙값까지\n",
        "  right = list[mid:] #중앙값부터 끝까지\n",
        "  print(f'중앙값 기준 왼쪽: {left}, 오른쪽: {right}')\n",
        "  L = merge_sort(left)\n",
        "  R = merge_sort(right)\n",
        "  #====divide====\n",
        "  merged = merge(L, R) #병합을 위한 함수 호출\n",
        "  print(\"merged: \",merged)\n",
        "  return merged\n",
        "\n",
        "def merge(L, R): #병합 함수를 정의\n",
        "  merged = [] #빈 리스트, 합병한 값을 넣기 위함\n",
        "#왼쪽, 오른쪽 길이(크기)가 0 이하이면 멈추기\n",
        "  while len(L) > 0 and len(R) > 0:\n",
        "    #print(f'왼쪽 길이(크기): {len(L)}, 값: {L}')\n",
        "    #print(f'오른쪽 길이(크기): {len(R)}, 값: {R}')\n",
        "#만약 0보다 길이(크기)가 크면 왼쪽과 오른쪽 값 비교해서 작은 값을 추가\n",
        "    if L[0] <= R[0]:\n",
        "      merged.append(L.pop(0))\n",
        "      print(\"값:\", merged)\n",
        "    else:\n",
        "      merged.append(R.pop(0))\n",
        "      print(\"값:\", merged)\n",
        "  if len(L) > 0: #만약 왼쪽만 있고 왼쪽 길이(크기)가 0보다 크면\n",
        "    merged.append(L[0])\n",
        "  if len(R) > 0: #만약 오른쪽만 있고 오른쪽 길이(크기)가 0보다 크면\n",
        "    merged.append(R[0])\n",
        "  return merged\n",
        "\n",
        "ms_list = [8, 4, 5, 1, 7, 2, 3, 6]\n",
        "print(f'정렬 전: {ms_list}')\n",
        "print('-'*35)\n",
        "#ms_list = [30,47,90,10,3,80,23,65,20,76,60,50,11,40,7,93]\n",
        "merge_sort(ms_list)\n"
      ],
      "metadata": {
        "colab": {
          "base_uri": "https://localhost:8080/"
        },
        "id": "haRbZr53uMjc",
        "outputId": "96d3f7a1-6a74-4369-bea8-4f1306476632"
      },
      "execution_count": null,
      "outputs": [
        {
          "output_type": "stream",
          "name": "stdout",
          "text": [
            "정렬 전: [8, 4, 5, 1, 7, 2, 3, 6]\n",
            "-----------------------------------\n",
            "중앙값: 4\n",
            "중앙값 기준 왼쪽: [8, 4, 5, 1], 오른쪽: [7, 2, 3, 6]\n",
            "중앙값: 2\n",
            "중앙값 기준 왼쪽: [8, 4], 오른쪽: [5, 1]\n",
            "중앙값: 1\n",
            "중앙값 기준 왼쪽: [8], 오른쪽: [4]\n",
            "값: [4]\n",
            "merged:  [4, 8]\n",
            "중앙값: 1\n",
            "중앙값 기준 왼쪽: [5], 오른쪽: [1]\n",
            "값: [1]\n",
            "merged:  [1, 5]\n",
            "값: [1]\n",
            "값: [1, 4]\n",
            "값: [1, 4, 5]\n",
            "merged:  [1, 4, 5, 8]\n",
            "중앙값: 2\n",
            "중앙값 기준 왼쪽: [7, 2], 오른쪽: [3, 6]\n",
            "중앙값: 1\n",
            "중앙값 기준 왼쪽: [7], 오른쪽: [2]\n",
            "값: [2]\n",
            "merged:  [2, 7]\n",
            "중앙값: 1\n",
            "중앙값 기준 왼쪽: [3], 오른쪽: [6]\n",
            "값: [3]\n",
            "merged:  [3, 6]\n",
            "값: [2]\n",
            "값: [2, 3]\n",
            "값: [2, 3, 6]\n",
            "merged:  [2, 3, 6, 7]\n",
            "값: [1]\n",
            "값: [1, 2]\n",
            "값: [1, 2, 3]\n",
            "값: [1, 2, 3, 4]\n",
            "값: [1, 2, 3, 4, 5]\n",
            "값: [1, 2, 3, 4, 5, 6]\n",
            "값: [1, 2, 3, 4, 5, 6, 7]\n",
            "merged:  [1, 2, 3, 4, 5, 6, 7, 8]\n"
          ]
        },
        {
          "output_type": "execute_result",
          "data": {
            "text/plain": [
              "[1, 2, 3, 4, 5, 6, 7, 8]"
            ]
          },
          "metadata": {},
          "execution_count": 21
        }
      ]
    }
  ]
}