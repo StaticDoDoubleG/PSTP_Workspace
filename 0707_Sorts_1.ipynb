{
  "nbformat": 4,
  "nbformat_minor": 0,
  "metadata": {
    "colab": {
      "provenance": [],
      "authorship_tag": "ABX9TyNzWzqL9zG5hb4A6gukUojz",
      "include_colab_link": true
    },
    "kernelspec": {
      "name": "python3",
      "display_name": "Python 3"
    },
    "language_info": {
      "name": "python"
    }
  },
  "cells": [
    {
      "cell_type": "markdown",
      "metadata": {
        "id": "view-in-github",
        "colab_type": "text"
      },
      "source": [
        "<a href=\"https://colab.research.google.com/github/StaticDoDoubleG/PSTP_Workspace/blob/main/0707_Sorts_1.ipynb\" target=\"_parent\"><img src=\"https://colab.research.google.com/assets/colab-badge.svg\" alt=\"Open In Colab\"/></a>"
      ]
    },
    {
      "cell_type": "markdown",
      "source": [
        "# **선택정렬 알고리즘**\n",
        "\n",
        "\n"
      ],
      "metadata": {
        "id": "bN3Qi4HBAK_P"
      }
    },
    {
      "cell_type": "code",
      "execution_count": 14,
      "metadata": {
        "colab": {
          "base_uri": "https://localhost:8080/"
        },
        "id": "H8ikgFwB9RW8",
        "outputId": "c4842af8-20a0-4b19-b9b9-0174dfb707b3"
      },
      "outputs": [
        {
          "output_type": "stream",
          "name": "stdout",
          "text": [
            "[for-for]\n",
            "\n",
            "선택정렬 전 : [40, 70, 60, 30, 10, 50]\n",
            "++++++++++++++++++++++++++++++++++++++++\n",
            "1단계:[10, 70, 60, 30, 40, 50]\n",
            "2단계:[10, 30, 60, 70, 40, 50]\n",
            "3단계:[10, 30, 40, 70, 60, 50]\n",
            "4단계:[10, 30, 40, 50, 60, 70]\n",
            "5단계:[10, 30, 40, 50, 60, 70]\n",
            "++++++++++++++++++++++++++++++++++++++++\n",
            "선택정렬 결과 : [10, 30, 40, 50, 60, 70]\n",
            "\n",
            "[while-while]\n",
            "\n",
            "선택정렬 전: [40, 70, 60, 30, 10, 50]\n",
            "++++++++++++++++++++++++++++++++++++++++\n",
            "1단계: [10, 70, 60, 30, 40, 50]\n",
            "2단계: [10, 30, 60, 70, 40, 50]\n",
            "3단계: [10, 30, 40, 70, 60, 50]\n",
            "4단계: [10, 30, 40, 50, 60, 70]\n",
            "5단계: [10, 30, 40, 50, 60, 70]\n",
            "6단계: [10, 30, 40, 50, 60, 70]\n",
            "++++++++++++++++++++++++++++++++++++++++\n",
            "선택정렬 결과: [10, 30, 40, 50, 60, 70]\n"
          ]
        }
      ],
      "source": [
        "print(\"[for-for]\\n\")\n",
        "arr=[40,70,60,30,10,50]\n",
        "print(f'선택정렬 전 : {arr}')\n",
        "print(\"+\"*40)\n",
        "for i in range(len(arr) - 1):\n",
        "  min_idx = i #최소값 저장(초기화)\n",
        "  for j in range(min_idx + 1, len(arr)): #최소값 찾아감\n",
        "    if arr[j] < arr[min_idx]:\n",
        "      min_idx = j #최소값\n",
        "#만약 최소값 위치와 가장 앞의 인덱스 위치의 값 변경\n",
        "  arr[i], arr[min_idx] = arr[min_idx], arr[i]\n",
        "  print(f'{i+1}단계:{arr}') #단계별 리스트 출력\n",
        "print(\"+\"*40)\n",
        "print(f'선택정렬 결과 : {arr}') # 정렬 후 리스트 출력\n",
        "\n",
        "print(\"\\n[while-while]\\n\")\n",
        "arr = [40, 70, 60, 30, 10, 50]\n",
        "print(f'선택정렬 전: {arr}')\n",
        "print(\"+\" * 40)\n",
        "i = 0\n",
        "while i <= len(arr)-1:\n",
        "  #print(f\"크기 : {i}\")\n",
        "  min_idx = i #처음의 최솟값 설정, 가장 맨 앞의 값\n",
        "  #print(f\"지금 현재 최솟값 : {arr[min_idx]}\")\n",
        "\n",
        "  #선형 검색을 통해 주어진 범위에서의 진짜 최솟값 찾기\n",
        "  for j in range(min_idx + 1, len(arr)): #최솟값 찾아감\n",
        "    if arr[j] < arr[min_idx]:\n",
        "      min_idx = j #최종적인 최솟값\n",
        "      #print(f\"우리가 찾는 최솟값 : {arr[min_idx]}\")\n",
        "  arr[i], arr[min_idx] = arr[min_idx], arr[i]\n",
        "  print(f'{i + 1}단계: {arr}')\n",
        "  i += 1\n",
        "print(\"+\" * 40)\n",
        "print(f'선택정렬 결과: {arr}')\n"
      ]
    },
    {
      "cell_type": "code",
      "source": [
        "a = [5, 8, 1, 9, 4]\n",
        "\n",
        "#선택정렬\n",
        "'''\n",
        "1/ 최솟값 찾기\n",
        "    -> 먼저 현재 주어진 범위의 맨 처음이 임시로 최솟값\n",
        "    -> 선형검색을 통해 진짜 최솟값\n",
        "2/ 최솟값과 주어진 범위의 맨 앞의 값을 교환\n",
        "'''\n",
        "print(f'선택정렬 전 : {a}')\n",
        "print(\"+\"*40)\n",
        "for i in range(len(a) - 1):\n",
        "  min_idx = i\n",
        "  for j in range(min_idx + 1, len(a)):\n",
        "    if a[j] < a[min_idx]:\n",
        "      min_idx = j\n",
        "  a[i], a[min_idx] = a[min_idx], a[i]\n",
        "  print(f'{i+1}단계:{a}') #단계별 리스트 출력\n",
        "print(\"+\"*40)\n",
        "print(f'선택정렬 결과 : {a}') # 정렬 후 리스트 출력\n"
      ],
      "metadata": {
        "colab": {
          "base_uri": "https://localhost:8080/"
        },
        "id": "ok-up4g1E-xk",
        "outputId": "6b4e6581-4ebf-429f-f4ef-71ba8125645a"
      },
      "execution_count": 17,
      "outputs": [
        {
          "output_type": "stream",
          "name": "stdout",
          "text": [
            "선택정렬 전 : [5, 8, 1, 9, 4]\n",
            "++++++++++++++++++++++++++++++++++++++++\n",
            "1단계:[1, 8, 5, 9, 4]\n",
            "2단계:[1, 4, 5, 9, 8]\n",
            "3단계:[1, 4, 5, 9, 8]\n",
            "4단계:[1, 4, 5, 8, 9]\n",
            "++++++++++++++++++++++++++++++++++++++++\n",
            "선택정렬 결과 : [1, 4, 5, 8, 9]\n"
          ]
        }
      ]
    },
    {
      "cell_type": "markdown",
      "source": [
        "# **버블정렬 알고리즘**"
      ],
      "metadata": {
        "id": "7b3IEiMkHOFC"
      }
    },
    {
      "cell_type": "code",
      "source": [
        "#버블정렬\n",
        "print(\"[for-for]\\n\")\n",
        "arr=[40,70,60,30,10,50]\n",
        "print(f'버블정렬 전 : {arr}')\n",
        "print(\"+\"*40)\n",
        "for i in range(len(arr)-1,0,-1): #정렬 후 반복과정 1씩 줄임임\n",
        "  for j in range(i): #두 수 비교해서 자리 교환하기\n",
        "    if arr[j] > arr[j+1]:\n",
        "#만약 이웃한 값 중 작은값의 인덱스 위치 값 변경\n",
        "      arr[j], arr[j+1] = arr[j+1], arr[j]\n",
        "    else:\n",
        "      print(f'단계:{arr[j]},{arr[j+1]} 이웃값 변동 없음')\n",
        "  print(f'단계:{arr}') #단계별 리스트 출력\n",
        "print(\"+\"*40)\n",
        "print(f'버블정렬 결과 : {arr}') # 정렬 후 리스트 출력\n",
        "\n",
        "print(\"\\n[while-while]\\n\")\n",
        "arr = [40, 70, 60, 30, 10, 50]\n",
        "print(f'버블 정렬 전: {arr}')\n",
        "print(\"+\" * 40)\n",
        "n = len(arr)\n",
        "while n > 1: # 리스트의 길이가 1보다 큰 동안 반복\n",
        "  for i in range(n-1):\n",
        "    if arr[i] > arr[i+1]:\n",
        "      arr[i], arr[i+1] = arr[i+1], arr[i] # 이웃한 값 중 작은 값의 위치를 변경\n",
        "      #print(f'단계: {arr}') # 단계별 리스트 출력\n",
        "    else:\n",
        "      print(f'단계: {arr[i]}, {arr[i+1]} 이웃값 변동 없음')\n",
        "  print(f'단계: {arr}') # 단계별 리스트 출력\n",
        "  print(\"====== PASS ======\")\n",
        "  n -= 1\n",
        "print(\"+\" * 40)\n",
        "print(f'버블 정렬 결과: {arr}') # 정렬 후 리스트 출력\n"
      ],
      "metadata": {
        "colab": {
          "base_uri": "https://localhost:8080/"
        },
        "id": "_4YH9I0gHSVe",
        "outputId": "d9cdcd43-0e14-480f-afe3-74618e24a98d"
      },
      "execution_count": 24,
      "outputs": [
        {
          "output_type": "stream",
          "name": "stdout",
          "text": [
            "[for-for]\n",
            "\n",
            "버블정렬 전 : [40, 70, 60, 30, 10, 50]\n",
            "++++++++++++++++++++++++++++++++++++++++\n",
            "단계:40,70 이웃값 변동 없음\n",
            "단계:[40, 60, 30, 10, 50, 70]\n",
            "단계:40,60 이웃값 변동 없음\n",
            "단계:[40, 30, 10, 50, 60, 70]\n",
            "단계:40,50 이웃값 변동 없음\n",
            "단계:[30, 10, 40, 50, 60, 70]\n",
            "단계:30,40 이웃값 변동 없음\n",
            "단계:[10, 30, 40, 50, 60, 70]\n",
            "단계:10,30 이웃값 변동 없음\n",
            "단계:[10, 30, 40, 50, 60, 70]\n",
            "++++++++++++++++++++++++++++++++++++++++\n",
            "버블정렬 결과 : [10, 30, 40, 50, 60, 70]\n",
            "\n",
            "[while-while]\n",
            "\n",
            "버블 정렬 전: [40, 70, 60, 30, 10, 50]\n",
            "++++++++++++++++++++++++++++++++++++++++\n",
            "단계: 40, 70 이웃값 변동 없음\n",
            "단계: [40, 60, 30, 10, 50, 70]\n",
            "====== PASS ======\n",
            "단계: 40, 60 이웃값 변동 없음\n",
            "단계: [40, 30, 10, 50, 60, 70]\n",
            "====== PASS ======\n",
            "단계: 40, 50 이웃값 변동 없음\n",
            "단계: [30, 10, 40, 50, 60, 70]\n",
            "====== PASS ======\n",
            "단계: 30, 40 이웃값 변동 없음\n",
            "단계: [10, 30, 40, 50, 60, 70]\n",
            "====== PASS ======\n",
            "단계: 10, 30 이웃값 변동 없음\n",
            "단계: [10, 30, 40, 50, 60, 70]\n",
            "====== PASS ======\n",
            "++++++++++++++++++++++++++++++++++++++++\n",
            "버블 정렬 결과: [10, 30, 40, 50, 60, 70]\n"
          ]
        }
      ]
    },
    {
      "cell_type": "code",
      "source": [
        "a = [5, 8, 1, 9, 4]\n",
        "\n",
        "'''\n",
        "#버블정렬\n",
        "1/ 인접한 값 비교\n",
        "2/ 앞의 값이 뒤의 값보다 크면 교환\n",
        "   앞의 값이 뒤의 값보다 작으면 그냥 놔둠\n",
        "\n",
        "'''\n",
        "\n",
        "print(f'버블 정렬 전: {a}')\n",
        "n = len(a)\n",
        "while n > 1:\n",
        "  for i in range(n-1):\n",
        "    if a[i] > a[i+1]:\n",
        "      a[i], a[i+1] = a[i+1], a[i]\n",
        "    #else:\n",
        "      #print(f'단계: {a[i]}, {a[i+1]} 이웃값 변동 없음')\n",
        "  print(f'단계: {a}')\n",
        "  n -= 1\n",
        "print(f'버블 정렬 결과: {a}')"
      ],
      "metadata": {
        "colab": {
          "base_uri": "https://localhost:8080/"
        },
        "id": "XhQ-hxMPNJsV",
        "outputId": "a50695be-f879-4ff1-f806-8c055f814656"
      },
      "execution_count": 28,
      "outputs": [
        {
          "output_type": "stream",
          "name": "stdout",
          "text": [
            "버블 정렬 전: [5, 8, 1, 9, 4]\n",
            "단계: [5, 1, 8, 4, 9]\n",
            "단계: [1, 5, 4, 8, 9]\n",
            "단계: [1, 4, 5, 8, 9]\n",
            "단계: [1, 4, 5, 8, 9]\n",
            "버블 정렬 결과: [1, 4, 5, 8, 9]\n"
          ]
        }
      ]
    }
  ]
}