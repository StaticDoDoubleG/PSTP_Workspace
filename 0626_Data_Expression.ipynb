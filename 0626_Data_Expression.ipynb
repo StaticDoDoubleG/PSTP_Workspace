{
  "nbformat": 4,
  "nbformat_minor": 0,
  "metadata": {
    "colab": {
      "provenance": [],
      "authorship_tag": "ABX9TyOFWMYkzocAdZR9qEwt0Ytw",
      "include_colab_link": true
    },
    "kernelspec": {
      "name": "python3",
      "display_name": "Python 3"
    },
    "language_info": {
      "name": "python"
    }
  },
  "cells": [
    {
      "cell_type": "markdown",
      "metadata": {
        "id": "view-in-github",
        "colab_type": "text"
      },
      "source": [
        "<a href=\"https://colab.research.google.com/github/StaticDoDoubleG/PSTP_Workspace/blob/main/0626_Data_Expression.ipynb\" target=\"_parent\"><img src=\"https://colab.research.google.com/assets/colab-badge.svg\" alt=\"Open In Colab\"/></a>"
      ]
    },
    {
      "cell_type": "markdown",
      "source": [
        "튜플, **딕셔너리**(중요!), 세트"
      ],
      "metadata": {
        "id": "jocHNFPFFJpQ"
      }
    },
    {
      "cell_type": "markdown",
      "source": [
        "# **[튜플]**"
      ],
      "metadata": {
        "id": "uJNImUTYarWz"
      }
    },
    {
      "cell_type": "code",
      "execution_count": 1,
      "metadata": {
        "colab": {
          "base_uri": "https://localhost:8080/"
        },
        "id": "wXA0b_4hDoQX",
        "outputId": "c72e5724-aa2e-4e95-91b6-b0cd693b9e99"
      },
      "outputs": [
        {
          "output_type": "execute_result",
          "data": {
            "text/plain": [
              "tuple"
            ]
          },
          "metadata": {},
          "execution_count": 1
        }
      ],
      "source": [
        "tuplea = 1, 2, 3\n",
        "type(tuplea)"
      ]
    },
    {
      "cell_type": "code",
      "source": [
        "a = 1, #자료가 하나일 때는 콤마로 튜플로 만들기\n",
        "b = 1\n",
        "print(a, b)\n",
        "print(type(a), type(b))"
      ],
      "metadata": {
        "colab": {
          "base_uri": "https://localhost:8080/"
        },
        "id": "64qMMJQYG-hN",
        "outputId": "cc191df7-fad6-4542-fe6c-2a22f34b9d97"
      },
      "execution_count": 2,
      "outputs": [
        {
          "output_type": "stream",
          "name": "stdout",
          "text": [
            "(1,) 1\n",
            "<class 'tuple'> <class 'int'>\n"
          ]
        }
      ]
    },
    {
      "cell_type": "markdown",
      "source": [
        "튜플은 읽기 전용 리스트\n",
        "읽기 O\n",
        "추가 X\n",
        "변경 X\n",
        "삭제 X, 단 전체는 가능\n",
        "정렬 X"
      ],
      "metadata": {
        "id": "m8QD8r7rHZy7"
      }
    },
    {
      "cell_type": "code",
      "source": [
        "a = 1, 3, 4, 5, 2, 4, 5 #튜플\n",
        "#a[1] = '가'   //오류, 변경 안됨\n",
        "#del(a[2])     //오류, 부분 삭제 안됨\n",
        "#a.sort()      //오류, 정렬 안됨\n",
        "#del(a)        //전체 삭제는 됨\n",
        "\n",
        "# 튜플에서 리스트로 변환\n",
        "b = list(a)\n",
        "print(a, type(a))\n",
        "print(b, type(b))\n",
        "b[1] = 12\n",
        "print(b, type(b))\n",
        "b.sort()\n",
        "print(b, type(b))\n",
        "\n",
        "# 리스트에서 튜플로 변환\n",
        "c = tuple(b) #튜플의 원본은 훼손하지 않는 것이 좋습니다.\n",
        "print(c, type(c))\n"
      ],
      "metadata": {
        "colab": {
          "base_uri": "https://localhost:8080/"
        },
        "id": "GILPTR0UHsQK",
        "outputId": "cf591cad-e939-432d-83cd-6c4bd76fd6d7"
      },
      "execution_count": 15,
      "outputs": [
        {
          "output_type": "stream",
          "name": "stdout",
          "text": [
            "(1, 3, 4, 5, 2, 4, 5) <class 'tuple'>\n",
            "[1, 3, 4, 5, 2, 4, 5] <class 'list'>\n",
            "[1, 12, 4, 5, 2, 4, 5] <class 'list'>\n",
            "[1, 2, 4, 4, 5, 5, 12] <class 'list'>\n",
            "(1, 2, 4, 4, 5, 5, 12) <class 'tuple'>\n"
          ]
        }
      ]
    },
    {
      "cell_type": "code",
      "source": [
        "c[3:5] #3에서 5미만\n",
        "c[-1]"
      ],
      "metadata": {
        "colab": {
          "base_uri": "https://localhost:8080/"
        },
        "id": "bS8dZiOZKW2t",
        "outputId": "e5e25ffe-dc6d-4fa6-bbf8-032e1c89665e"
      },
      "execution_count": 17,
      "outputs": [
        {
          "output_type": "execute_result",
          "data": {
            "text/plain": [
              "12"
            ]
          },
          "metadata": {},
          "execution_count": 17
        }
      ]
    },
    {
      "cell_type": "code",
      "source": [
        "d = 11, 14, 15, 16\n",
        "c[3:5] + d[0:2]\n",
        "d[0:2]*2"
      ],
      "metadata": {
        "colab": {
          "base_uri": "https://localhost:8080/"
        },
        "id": "4aFo-28EKloc",
        "outputId": "253112f2-f0f7-4652-ab9d-6f3fba1cdeda"
      },
      "execution_count": 19,
      "outputs": [
        {
          "output_type": "execute_result",
          "data": {
            "text/plain": [
              "(11, 14, 11, 14)"
            ]
          },
          "metadata": {},
          "execution_count": 19
        }
      ]
    },
    {
      "cell_type": "code",
      "source": [
        "tt = '포도', '딸기', '바나나', '사과', '망고', '오렌지'\n",
        "max(a) #주어진 범위 안에서 가장 큰 값\n",
        "min(a) # 주어진 범위 안에서 가장 작은\n",
        "print(max(tt))\n",
        "print(min(tt))\n",
        "#문자와 숫자 사이에서는 Sorting이 불가능함\n",
        "#Sorting을 하고 싶으면 자료형이 동일한 튜플, 리스트여야함\n",
        "#tt.index('사과')\n",
        "#print(f'사과의 인덱스 번호는 {tt.index('사과')}')\n",
        "len(tt)"
      ],
      "metadata": {
        "colab": {
          "base_uri": "https://localhost:8080/"
        },
        "id": "JBesGlQ-LlFd",
        "outputId": "2eefb596-897f-4dee-ed68-0d80f87823c2"
      },
      "execution_count": 24,
      "outputs": [
        {
          "output_type": "stream",
          "name": "stdout",
          "text": [
            "포도\n",
            "딸기\n"
          ]
        },
        {
          "output_type": "execute_result",
          "data": {
            "text/plain": [
              "6"
            ]
          },
          "metadata": {},
          "execution_count": 24
        }
      ]
    },
    {
      "cell_type": "code",
      "source": [
        "d = 11, 14, 15, 16\n",
        "sum(d)"
      ],
      "metadata": {
        "colab": {
          "base_uri": "https://localhost:8080/"
        },
        "id": "4lcfy1udNP79",
        "outputId": "2d256680-3425-4539-ff25-74020cb0bd2d"
      },
      "execution_count": 25,
      "outputs": [
        {
          "output_type": "execute_result",
          "data": {
            "text/plain": [
              "56"
            ]
          },
          "metadata": {},
          "execution_count": 25
        }
      ]
    },
    {
      "cell_type": "markdown",
      "source": [
        "활동하기 (1)"
      ],
      "metadata": {
        "id": "R610RYeIZtBQ"
      }
    },
    {
      "cell_type": "code",
      "source": [
        "aa = 1, 2, 3, 4, 5\n",
        "\n",
        "for i in range(len(aa)):\n",
        "  print(f'{i}번째 인덱스는 {aa[i]}')"
      ],
      "metadata": {
        "colab": {
          "base_uri": "https://localhost:8080/"
        },
        "id": "cQmIjy_uNu4a",
        "outputId": "d8887af8-c387-4b43-c892-e02cd99d8fd6"
      },
      "execution_count": 31,
      "outputs": [
        {
          "output_type": "stream",
          "name": "stdout",
          "text": [
            "0번째 인덱스는 1\n",
            "1번째 인덱스는 2\n",
            "2번째 인덱스는 3\n",
            "3번째 인덱스는 4\n",
            "4번째 인덱스는 5\n"
          ]
        }
      ]
    },
    {
      "cell_type": "markdown",
      "source": [
        "# **[딕셔너리]**\n",
        "딕셔너리: 사전과 같은 구조를 가짐.\n",
        "\n",
        "자바의 맵 자료구조와 같다고 보면 됨.\n",
        "\n",
        "딕셔너리 변수 = {키:값, 키:값, 키:값, ... }"
      ],
      "metadata": {
        "id": "2gV2D3oLO5Mp"
      }
    },
    {
      "cell_type": "code",
      "source": [
        "dict_A = {1:'여름', '여행' : '해외', 2 : 2023, 2 : '노르웨이', 3 : '비행기'}\n",
        "#딕셔너리는 무조건 '키'가 포인트!\n",
        "#키가 중복이 된다면 먼저 입력된 키의 값은 마지막으로 입력된 중복된 키의 값에 의해 덮어씌워짐\n",
        "print(dict_A)\n",
        "print(dict_A[2])"
      ],
      "metadata": {
        "colab": {
          "base_uri": "https://localhost:8080/"
        },
        "id": "XYGnAucbO37d",
        "outputId": "4c347c03-e80d-4988-ba0b-01f43d82a4a0"
      },
      "execution_count": 36,
      "outputs": [
        {
          "output_type": "stream",
          "name": "stdout",
          "text": [
            "{1: '여름', '여행': '해외', 2: '노르웨이', 3: '비행기'}\n",
            "노르웨이\n"
          ]
        }
      ]
    },
    {
      "cell_type": "code",
      "source": [
        "dict_A = {1:'여름', '여행' : '해외', 2 : 2023, 2 : '노르웨이', 3 : '비행기', \"과일\" : \"여름\"}\n",
        "#값은 중복이 되어도 상관없음.\n",
        "print(dict_A)\n",
        "print(dict_A[1])\n",
        "print(dict_A['과일'])"
      ],
      "metadata": {
        "colab": {
          "base_uri": "https://localhost:8080/"
        },
        "id": "MPOLgbWOQGv9",
        "outputId": "ab6ba081-c9de-4029-a2ba-de471eeaa9ce"
      },
      "execution_count": 38,
      "outputs": [
        {
          "output_type": "stream",
          "name": "stdout",
          "text": [
            "{1: '여름', '여행': '해외', 2: '노르웨이', 3: '비행기', '과일': '여름'}\n",
            "여름\n",
            "여름\n"
          ]
        }
      ]
    },
    {
      "cell_type": "code",
      "source": [
        "#딕셔너리 변수명[키] -> 우리가 찾고 싶은 키와 맵핑된 값을 찾아서 출력해준다.\n",
        "#값을 변경하고 싶을 때 : 딕셔너리 변수명[키] = 변경할 값\n",
        "dict_A[3]\n",
        "dict_A['여행'] = '국내'\n",
        "print(dict_A)"
      ],
      "metadata": {
        "colab": {
          "base_uri": "https://localhost:8080/"
        },
        "id": "jnwzHIbxRL0w",
        "outputId": "5168518c-3e80-4f08-c021-c8717f565cb8"
      },
      "execution_count": 42,
      "outputs": [
        {
          "output_type": "stream",
          "name": "stdout",
          "text": [
            "{1: '여름', '여행': '국내', 2: '노르웨이', 3: '비행기', '과일': '여름'}\n"
          ]
        }
      ]
    },
    {
      "cell_type": "code",
      "source": [
        "#딕셔너리 값 삭제하기 : del(딕셔너리 변수명[키])\n",
        "del(dict_A[3])\n",
        "print(dict_A)"
      ],
      "metadata": {
        "colab": {
          "base_uri": "https://localhost:8080/"
        },
        "id": "QMCtQxcdSN-k",
        "outputId": "7170cd0f-8c20-4c6b-a57b-0397f302c308"
      },
      "execution_count": 43,
      "outputs": [
        {
          "output_type": "stream",
          "name": "stdout",
          "text": [
            "{1: '여름', '여행': '국내', 2: '노르웨이', '과일': '여름'}\n"
          ]
        }
      ]
    },
    {
      "cell_type": "code",
      "source": [
        "#dict_A['비행']\n",
        "dict_A.get('여행')     #get 함수\n",
        "dict_A.get('비행')     #오류 메시지 출력 안함\n",
        "'여행' in dict_A       #in 연산자\n",
        "'비행' in dict_A\n",
        "'여행' not in dict_A   # not in 연산자\n",
        "'비행' not in dict_A\n",
        "#get을 사용하는 것을 권장함\n"
      ],
      "metadata": {
        "colab": {
          "base_uri": "https://localhost:8080/"
        },
        "id": "t5CPLyRIS4D9",
        "outputId": "1b757c49-6165-4705-e13c-80be31b47d38"
      },
      "execution_count": 53,
      "outputs": [
        {
          "output_type": "execute_result",
          "data": {
            "text/plain": [
              "True"
            ]
          },
          "metadata": {},
          "execution_count": 53
        }
      ]
    },
    {
      "cell_type": "code",
      "source": [
        "len(dict_A)"
      ],
      "metadata": {
        "colab": {
          "base_uri": "https://localhost:8080/"
        },
        "id": "DNofIJs8UfU1",
        "outputId": "0444d509-59a7-4129-8498-3a88aa671163"
      },
      "execution_count": 54,
      "outputs": [
        {
          "output_type": "execute_result",
          "data": {
            "text/plain": [
              "4"
            ]
          },
          "metadata": {},
          "execution_count": 54
        }
      ]
    },
    {
      "cell_type": "code",
      "source": [
        "dict_b = {1:'a', 2:'b', 3:'c', 4:'d'}\n",
        "print(dict_b)\n",
        "dict_b.update({5 : 'e', 6 : 'f', 7 : 'm', 8 : 'z'})\n",
        "print(dict_b)"
      ],
      "metadata": {
        "colab": {
          "base_uri": "https://localhost:8080/"
        },
        "id": "93t9zDb_U44a",
        "outputId": "4f32c5ca-cd25-4491-cf58-b506024c8e77"
      },
      "execution_count": 59,
      "outputs": [
        {
          "output_type": "stream",
          "name": "stdout",
          "text": [
            "{1: 'a', 2: 'b', 3: 'c', 4: 'd'}\n",
            "{1: 'a', 2: 'b', 3: 'c', 4: 'd', 5: 'e', 6: 'f', 7: 'm', 8: 'z'}\n"
          ]
        }
      ]
    },
    {
      "cell_type": "code",
      "source": [
        "dict_b.keys()\n",
        "dict_b.values()\n",
        "dict_b.items()"
      ],
      "metadata": {
        "colab": {
          "base_uri": "https://localhost:8080/"
        },
        "id": "6If9QKxSVeI2",
        "outputId": "9379abfa-562a-4bc8-c10c-f6846f2c21b6"
      },
      "execution_count": 60,
      "outputs": [
        {
          "output_type": "execute_result",
          "data": {
            "text/plain": [
              "dict_items([(1, 'a'), (2, 'b'), (3, 'c'), (4, 'd'), (5, 'e'), (6, 'f'), (7, 'm'), (8, 'z')])"
            ]
          },
          "metadata": {},
          "execution_count": 60
        }
      ]
    },
    {
      "cell_type": "code",
      "source": [
        "dict_tt = {'apple' : 'apple.com', 'samsung' : 'samsung.com', 'google' : 'google.com'}\n",
        "type(dict_tt)\n",
        "for i in dict_tt.keys():\n",
        "  print(f'키: {i} 값: {dict_tt[i]} ')\n",
        "print()\n",
        "for a, b in dict_tt.items():\n",
        "  print(f'{a} : {b}')"
      ],
      "metadata": {
        "colab": {
          "base_uri": "https://localhost:8080/"
        },
        "id": "t2pt69aeV7-O",
        "outputId": "2383bb05-914f-4676-ac1c-1ee5f8d95363"
      },
      "execution_count": 62,
      "outputs": [
        {
          "output_type": "stream",
          "name": "stdout",
          "text": [
            "키: apple 값: apple.com \n",
            "키: samsung 값: samsung.com \n",
            "키: google 값: google.com \n",
            "\n",
            "apple : apple.com\n",
            "samsung : samsung.com\n",
            "google : google.com\n"
          ]
        }
      ]
    },
    {
      "cell_type": "markdown",
      "source": [
        "활동하기 (2)\n"
      ],
      "metadata": {
        "id": "ekT30poKZFiC"
      }
    },
    {
      "cell_type": "code",
      "source": [
        "#빈 리스트를 표현하고자 할 때에는 a = [] or a = list()\n",
        "#즉, 빈 딕셔너리를 표현하고자 할 때에는 b = () or b = dict() //양쪽 다 후자가 권장됨(해당 자료구조가 무엇인지 식별하기 위해서)\n",
        "#빈 세트도 c = set()\n",
        "dic1 = {'a':100, 'b':200}\n",
        "dic2 = {'c':300, 'd':400}\n",
        "dic3 = dict()\n",
        "#교수의 답안, items 사용\n",
        "for i, j in dic1.items():\n",
        "  dic3[i] = j\n",
        "for x, y in dic2.items():\n",
        "  dic3[x] = y\n",
        "\n",
        "#나의 답안, keys 사용\n",
        "for v in dic1.keys():\n",
        "  dic3[v] = dic1[v]\n",
        "for v in dic2.keys():\n",
        "  dic3[v] = dic2[v]\n",
        "print(dic3)"
      ],
      "metadata": {
        "colab": {
          "base_uri": "https://localhost:8080/"
        },
        "id": "iQb5YmytXEUX",
        "outputId": "d0c8d833-5b35-4ab4-de18-82ed2cea0ed0"
      },
      "execution_count": 69,
      "outputs": [
        {
          "output_type": "stream",
          "name": "stdout",
          "text": [
            "{'a': 100, 'b': 200, 'c': 300, 'd': 400}\n"
          ]
        }
      ]
    },
    {
      "cell_type": "markdown",
      "source": [
        "활동하기 (3)"
      ],
      "metadata": {
        "id": "lfRCOnMdZHGU"
      }
    },
    {
      "cell_type": "code",
      "source": [
        "while True:\n",
        "  dicday = {'월':'mon','화':'tue','수':'wed','목':'thu','금':'fri','토':'sat','일':'sun'}\n",
        "#print(dicday)\n",
        "  day = input(\"월요일부터 일요일까지 중 영어로 번역하고 싶은 요일을 입력하세요:\"+\" \")\n",
        "  if day == '종료':\n",
        "    break\n",
        "\n",
        "  if day in dicday:\n",
        "    print(dicday[day])\n",
        "  else:\n",
        "    print(\"요일을 잘못 입력했습니다.\")\n"
      ],
      "metadata": {
        "colab": {
          "base_uri": "https://localhost:8080/"
        },
        "id": "yFcQfu_sZFI0",
        "outputId": "652ad029-290a-4350-cc99-672b8787f854"
      },
      "execution_count": 75,
      "outputs": [
        {
          "name": "stdout",
          "output_type": "stream",
          "text": [
            "월요일부터 일요일까지 중 영어로 번역하고 싶은 요일을 입력하세요: 금\n",
            "fri\n",
            "월요일부터 일요일까지 중 영어로 번역하고 싶은 요일을 입력하세요: 월\n",
            "mon\n",
            "월요일부터 일요일까지 중 영어로 번역하고 싶은 요일을 입력하세요: 토\n",
            "sat\n",
            "월요일부터 일요일까지 중 영어로 번역하고 싶은 요일을 입력하세요: 종료\n"
          ]
        }
      ]
    },
    {
      "cell_type": "markdown",
      "source": [
        "# [**세트**]\n",
        "중복이 되어있는 값 알아서 정리함\n",
        "\n",
        "들어온 순서도 영향이 가지 않음\n",
        "\n",
        "중복된 값을 오직 하나만 가짐\n",
        "\n",
        "중복 제거 시 세트를 일부러 사용하는 경우도 존재"
      ],
      "metadata": {
        "id": "uAed7fb8av37"
      }
    },
    {
      "cell_type": "code",
      "source": [
        "set_a = {3, 5, 1, 2, 3, 1, 6, 4, 7, 6, 5, 8}\n",
        "print(set_a)"
      ],
      "metadata": {
        "colab": {
          "base_uri": "https://localhost:8080/"
        },
        "id": "bfXs1t4ba0Na",
        "outputId": "d138a5d4-5a5d-4f8e-b2c8-bd05807c873b"
      },
      "execution_count": 78,
      "outputs": [
        {
          "output_type": "stream",
          "name": "stdout",
          "text": [
            "{1, 2, 3, 4, 5, 6, 7, 8}\n"
          ]
        }
      ]
    },
    {
      "cell_type": "code",
      "source": [
        "list_a = [1, 3, 4, 5, 3]\n",
        "print(list_a, type(list_a))\n",
        "A = set(list_a)  #리스트를 세트로 변환시킴\n",
        "print(A, type(A))"
      ],
      "metadata": {
        "colab": {
          "base_uri": "https://localhost:8080/"
        },
        "id": "4Ry26HQXbl0l",
        "outputId": "9b50e8e9-2e06-48ab-e468-22491c4e6b3f"
      },
      "execution_count": 84,
      "outputs": [
        {
          "output_type": "stream",
          "name": "stdout",
          "text": [
            "[1, 3, 4, 5, 3] <class 'list'>\n",
            "{1, 3, 4, 5} <class 'set'>\n"
          ]
        }
      ]
    },
    {
      "cell_type": "code",
      "source": [
        "1 not in A\n",
        "2 not in A"
      ],
      "metadata": {
        "colab": {
          "base_uri": "https://localhost:8080/"
        },
        "id": "HNy9OSf8b0BE",
        "outputId": "e30afadf-a0af-419f-baf1-4d099d760eb3"
      },
      "execution_count": 87,
      "outputs": [
        {
          "output_type": "execute_result",
          "data": {
            "text/plain": [
              "True"
            ]
          },
          "metadata": {},
          "execution_count": 87
        }
      ]
    },
    {
      "cell_type": "code",
      "source": [
        "set_A = {4, 1, 6, 2, 3, 8, 1}\n",
        "set_B = {2, 5, 6, 2, 1, 3, 9, 11, 16}\n",
        "print(set_A)\n",
        "print(set_B)\n",
        "print(\"교집합: \", set_A & set_B)\n",
        "print(\"합집합: \", set_A | set_B)\n",
        "print(\"차집합: \", set_A - set_B)\n",
        "print(\"차집합: \", set_B - set_A)\n"
      ],
      "metadata": {
        "colab": {
          "base_uri": "https://localhost:8080/"
        },
        "id": "CpNoULJpckf4",
        "outputId": "d1dded74-d891-4019-8e97-14d29fae8ae1"
      },
      "execution_count": 90,
      "outputs": [
        {
          "output_type": "stream",
          "name": "stdout",
          "text": [
            "{1, 2, 3, 4, 6, 8}\n",
            "{1, 2, 3, 5, 6, 9, 11, 16}\n",
            "교집합:  {1, 2, 3, 6}\n",
            "합집합:  {1, 2, 3, 4, 5, 6, 8, 9, 11, 16}\n",
            "차집합:  {8, 4}\n",
            "차집합:  {16, 9, 11, 5}\n"
          ]
        }
      ]
    },
    {
      "cell_type": "code",
      "source": [
        "my_set = {\"Python\", \"Java\", \"Kotlin\"}\n",
        "my_set.add(\"R\") #세트에 값을 1개 추가\n",
        "print(my_set)\n",
        "my_set.update({\"C\", \"C++\", \"C#\"}) #세트에 여러 개의 값을 한꺼번에 올림\n",
        "print(my_set)"
      ],
      "metadata": {
        "colab": {
          "base_uri": "https://localhost:8080/"
        },
        "id": "QH4OCpkKdPYj",
        "outputId": "17ea3e77-5539-4b32-a597-2b4b02f41859"
      },
      "execution_count": 92,
      "outputs": [
        {
          "output_type": "stream",
          "name": "stdout",
          "text": [
            "{'Java', 'R', 'Kotlin', 'Python'}\n",
            "{'C', 'R', 'C#', 'Python', 'C++', 'Java', 'Kotlin'}\n"
          ]
        }
      ]
    },
    {
      "cell_type": "code",
      "source": [
        "my_set.remove(\"R\")  #하나의 값 삭제하기\n",
        "print(my_set)\n",
        "my_set.clear()      #전체 삭제\n",
        "print(my_set)"
      ],
      "metadata": {
        "colab": {
          "base_uri": "https://localhost:8080/"
        },
        "id": "YWphU_rPd7l3",
        "outputId": "e0fa9c58-8276-4347-d9d0-d42d299882a6"
      },
      "execution_count": 93,
      "outputs": [
        {
          "output_type": "stream",
          "name": "stdout",
          "text": [
            "{'C', 'C#', 'Python', 'C++', 'Java', 'Kotlin'}\n",
            "set()\n"
          ]
        }
      ]
    },
    {
      "cell_type": "code",
      "source": [
        "test = [1, 2, 3, 4, 5]\n",
        "test.pop() #맨 마지막 값을 삭제하고 그 값을 알려줌\n",
        "test.pop(0) #지정한 인덱스의 값을 삭제하고 그 값을 알려줌\n",
        "test.remove(3) #지정한 값을 삭제만하고 그 값을 알려주지는 않음\n",
        "print(test)"
      ],
      "metadata": {
        "colab": {
          "base_uri": "https://localhost:8080/"
        },
        "id": "uUdAfwKaevti",
        "outputId": "954b0134-1d7c-45a0-dc0b-954cfad00ea2"
      },
      "execution_count": 97,
      "outputs": [
        {
          "output_type": "stream",
          "name": "stdout",
          "text": [
            "[2, 4]\n"
          ]
        }
      ]
    },
    {
      "cell_type": "code",
      "source": [
        "m_set = {1, 2, 4, 6, 11, 12, 13, 14, 15, 16, 17}\n",
        "print(m_set)\n",
        "m_set.remove(13)\n",
        "print(m_set)"
      ],
      "metadata": {
        "colab": {
          "base_uri": "https://localhost:8080/"
        },
        "id": "9f9WYQegfWA4",
        "outputId": "b29ac53d-f274-40d7-eec1-7c97f2e52c0b"
      },
      "execution_count": 100,
      "outputs": [
        {
          "output_type": "stream",
          "name": "stdout",
          "text": [
            "{1, 2, 4, 6, 11, 12, 13, 14, 15, 16, 17}\n",
            "{1, 2, 4, 6, 11, 12, 14, 15, 16, 17}\n"
          ]
        }
      ]
    }
  ]
}