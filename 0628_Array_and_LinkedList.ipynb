{
  "nbformat": 4,
  "nbformat_minor": 0,
  "metadata": {
    "colab": {
      "provenance": [],
      "authorship_tag": "ABX9TyOP2p2eon1rZnadqSEVSj1A",
      "include_colab_link": true
    },
    "kernelspec": {
      "name": "python3",
      "display_name": "Python 3"
    },
    "language_info": {
      "name": "python"
    }
  },
  "cells": [
    {
      "cell_type": "markdown",
      "metadata": {
        "id": "view-in-github",
        "colab_type": "text"
      },
      "source": [
        "<a href=\"https://colab.research.google.com/github/StaticDoDoubleG/PSTP_Workspace/blob/main/0628_Array_and_LinkedList.ipynb\" target=\"_parent\"><img src=\"https://colab.research.google.com/assets/colab-badge.svg\" alt=\"Open In Colab\"/></a>"
      ]
    },
    {
      "cell_type": "markdown",
      "source": [
        "# **배열**"
      ],
      "metadata": {
        "id": "5aV-Snqdr-8m"
      }
    },
    {
      "cell_type": "code",
      "execution_count": 7,
      "metadata": {
        "colab": {
          "base_uri": "https://localhost:8080/"
        },
        "id": "OmZFEi7pZeVi",
        "outputId": "319215b9-9a80-4560-bb4f-d312b86a76a6"
      },
      "outputs": [
        {
          "output_type": "stream",
          "name": "stdout",
          "text": [
            "[]\n",
            "index[0] 위치에 추가할 값:4\n",
            "리스트:[4]\n",
            "index[1] 위치에 추가할 값:8\n",
            "리스트:[4, 8]\n",
            "index[2] 위치에 추가할 값:9\n",
            "리스트:[4, 8, 9]\n",
            "index[3] 위치에 추가할 값:10\n",
            "리스트:[4, 8, 9, 10]\n"
          ]
        }
      ],
      "source": [
        "a = list() #빈 리스트\n",
        "print(a)\n",
        "\n",
        "for i in range(4):\n",
        "  aa= int(input(f\"index[{i}] 위치에 추가할 값:\")) #합쳐도 됨\n",
        "  a.append(aa)\n",
        "  print(f\"리스트:{a}\")\n"
      ]
    },
    {
      "cell_type": "code",
      "source": [
        "#리스트변수명.insert(인덱스번호, 우리가 넣고 싶은 값)\n",
        "print(f\"리스트{a}\")\n",
        "\n",
        "#a.insert(2, 50)\n",
        "\n",
        "while (1):  # 무한 반복\n",
        "  idx = input(\"인덱스 위치 선택: \")\n",
        "\n",
        "  if idx == ' ':\n",
        "    print(\"스페이스키를 눌러 종료합니다.\")\n",
        "    break\n",
        "\n",
        "  value = int(input(f\"{idx} 위치에 넣을 값: \"))\n",
        "  a.insert(int(idx), value)\n",
        "  print(a)\n"
      ],
      "metadata": {
        "colab": {
          "base_uri": "https://localhost:8080/"
        },
        "id": "ML0dwpBmcS_x",
        "outputId": "69153739-9dbb-4afc-917d-e3938244cf7b"
      },
      "execution_count": 11,
      "outputs": [
        {
          "output_type": "stream",
          "name": "stdout",
          "text": [
            "리스트[4, 20, '20', 8, 9, 10]\n",
            "인덱스 위치 선택: 0\n",
            "0 위치에 넣을 값: 100\n",
            "[100, 4, 20, '20', 8, 9, 10]\n",
            "인덱스 위치 선택:  \n",
            "스페이스키를 눌러 종료합니다.\n"
          ]
        }
      ]
    },
    {
      "cell_type": "code",
      "source": [
        "lista =[8, 4, 9, 10]\n",
        "print(f'리스트: {lista}')\n",
        "\n",
        "'''\n",
        "리스트명.pop(인덱스 번호) //삭제한 값을 알려줌\n",
        "리스트명.remove(삭제하고 싶은 실제 값) //삭제한 값을 알려주지 않음\n",
        "리스트명.delete(리스트명[인덱스번호]) //삭제한 값을 알려주지 않음\n",
        "'''\n",
        "while(1):\n",
        "  select = int(input(\"삭제의 방법 선택\\n1. pop\\n2. remove\\n3. del\\n0. 종료\\n\"))\n",
        "  if select == 0:\n",
        "    print(\"종료\")\n",
        "    break #특정한 탈출 조건을 두는게 좋음\n",
        "\n",
        "  if select == 1: #pop\n",
        "    idx = int(input(\"삭제를 원하는 인덱스는? \"))\n",
        "    result = lista.pop(idx)\n",
        "    print(f\"삭제한 값: {result} \")\n",
        "    print(lista)\n",
        "\n",
        "  elif select == 2: #remove\n",
        "    print(lista) #현재의 리스트 결과값을 보여줌\n",
        "    rm = int(input(\"삭제를 원하는 값은? \"))\n",
        "    lista.remove(rm)\n",
        "    print(lista) #삭제 후 리스트 결과값 보여줌\n",
        "\n",
        "  elif select == 3: #delete\n",
        "    print(lista) #현재의 리스트에서의 결과값을 보여줌\n",
        "    idx = int(input(\"삭제를 원하는 인덱스는? \"))\n",
        "    del(lista[idx])\n",
        "    print(lista) #삭제 이후의 리스트에서의 결과값을 보여줌\n",
        "\n",
        "\n",
        "\n"
      ],
      "metadata": {
        "colab": {
          "base_uri": "https://localhost:8080/"
        },
        "id": "kkyKKGGTfaDf",
        "outputId": "684957a6-1ab8-4c87-e033-2f093ab7af81"
      },
      "execution_count": 25,
      "outputs": [
        {
          "output_type": "stream",
          "name": "stdout",
          "text": [
            "리스트: [8, 4, 9, 10]\n",
            "삭제의 방법 선택\n",
            "1. pop\n",
            "2. remove\n",
            "3. del\n",
            "0. 종료\n",
            "0\n",
            "종료\n"
          ]
        }
      ]
    },
    {
      "cell_type": "code",
      "source": [
        "list_2 = [\n",
        "    [1, 2, 3],\n",
        "    [4, 5, 6]\n",
        "] #2차원배열 /2차원 리스트"
      ],
      "metadata": {
        "id": "PZ6OB2dnj_G-"
      },
      "execution_count": null,
      "outputs": []
    },
    {
      "cell_type": "code",
      "source": [
        "a = [1, 2, 3]\n",
        "b = [4, 5, 6]\n",
        "print(a + b)"
      ],
      "metadata": {
        "colab": {
          "base_uri": "https://localhost:8080/"
        },
        "id": "N9TtMvwgmssZ",
        "outputId": "507cb463-55ce-4551-96f1-1d1ee37ab3a9"
      },
      "execution_count": 28,
      "outputs": [
        {
          "output_type": "stream",
          "name": "stdout",
          "text": [
            "[1, 2, 3, 4, 5, 6]\n"
          ]
        }
      ]
    },
    {
      "cell_type": "code",
      "source": [
        "import numpy as np\n",
        "\n",
        "a = np.array([[1, 2, 3], [4, 5, 6]])\n",
        "print(f'a = \\n {a}')\n",
        "b = np.array([[5, 6, 7], [8, 9, 10]])\n",
        "print(f'b = \\n {b}')\n",
        "c = a + b\n",
        "print(f' a+b = \\n {a + b}')"
      ],
      "metadata": {
        "colab": {
          "base_uri": "https://localhost:8080/"
        },
        "id": "tiJ7J5yzkPsB",
        "outputId": "03376193-0fae-4c26-8678-47dd807ece12"
      },
      "execution_count": 27,
      "outputs": [
        {
          "output_type": "stream",
          "name": "stdout",
          "text": [
            "a = \n",
            " [[1 2 3]\n",
            " [4 5 6]]\n",
            "b = \n",
            " [[ 5  6  7]\n",
            " [ 8  9 10]]\n",
            " a+b = \n",
            " [[ 6  8 10]\n",
            " [12 14 16]]\n"
          ]
        }
      ]
    },
    {
      "cell_type": "code",
      "source": [
        "bb = np.array([[1, 2, 3]])\n",
        "cc = np.array([[4], [5], [6]])\n",
        "print(bb)\n",
        "print(cc)\n",
        "bb.dot(cc)"
      ],
      "metadata": {
        "colab": {
          "base_uri": "https://localhost:8080/"
        },
        "id": "YSB5lICTm64E",
        "outputId": "820bdfb0-bf57-41bb-af64-0271632ea3ad"
      },
      "execution_count": 30,
      "outputs": [
        {
          "output_type": "stream",
          "name": "stdout",
          "text": [
            "[[1 2 3]]\n",
            "[[4]\n",
            " [5]\n",
            " [6]]\n"
          ]
        },
        {
          "output_type": "execute_result",
          "data": {
            "text/plain": [
              "array([[32]])"
            ]
          },
          "metadata": {},
          "execution_count": 30
        }
      ]
    },
    {
      "cell_type": "code",
      "source": [
        "dd = np.array([[1, 2, 3], [4, 5, 6]])\n",
        "ee = np.array([[1, 2], [3, 4], [5, 6]])\n",
        "dd.dot(ee)"
      ],
      "metadata": {
        "colab": {
          "base_uri": "https://localhost:8080/"
        },
        "id": "w1WYq-JNoaEl",
        "outputId": "c161632a-576f-48ff-c450-e087919032d9"
      },
      "execution_count": 31,
      "outputs": [
        {
          "output_type": "execute_result",
          "data": {
            "text/plain": [
              "array([[22, 28],\n",
              "       [49, 64]])"
            ]
          },
          "metadata": {},
          "execution_count": 31
        }
      ]
    },
    {
      "cell_type": "code",
      "source": [
        "dd = np.array([[1, 2, 3], [4, 5, 6]]) #2 * 3\n",
        "print(dd.reshape(3, 2)) #3행 2열"
      ],
      "metadata": {
        "colab": {
          "base_uri": "https://localhost:8080/"
        },
        "id": "-L7Xmmiso1uM",
        "outputId": "276f6f30-989b-40df-b078-f45b3e4f75fa"
      },
      "execution_count": 35,
      "outputs": [
        {
          "output_type": "stream",
          "name": "stdout",
          "text": [
            "[[1 2]\n",
            " [3 4]\n",
            " [5 6]]\n"
          ]
        }
      ]
    },
    {
      "cell_type": "code",
      "source": [
        "print(dd)"
      ],
      "metadata": {
        "colab": {
          "base_uri": "https://localhost:8080/"
        },
        "id": "ob68wmpEqGlA",
        "outputId": "08e6d036-b527-4eb9-f166-e3a7560eb5c6"
      },
      "execution_count": 36,
      "outputs": [
        {
          "output_type": "stream",
          "name": "stdout",
          "text": [
            "[[1 2 3]\n",
            " [4 5 6]]\n"
          ]
        }
      ]
    },
    {
      "cell_type": "code",
      "source": [
        "dd[1][1] = 50\n",
        "print(dd)"
      ],
      "metadata": {
        "colab": {
          "base_uri": "https://localhost:8080/"
        },
        "id": "SXvfoRanqYo0",
        "outputId": "a48a828e-4809-4602-95d0-baaa7715709d"
      },
      "execution_count": 37,
      "outputs": [
        {
          "output_type": "stream",
          "name": "stdout",
          "text": [
            "[[ 1  2  3]\n",
            " [ 4 50  6]]\n"
          ]
        }
      ]
    },
    {
      "cell_type": "code",
      "source": [
        "np.zeros(5)\n",
        "np.zeros((3, 2))\n",
        "np.ones(7)\n",
        "np.ones((3, 3))\n",
        "np.random.rand(2, 3)"
      ],
      "metadata": {
        "colab": {
          "base_uri": "https://localhost:8080/"
        },
        "id": "heNNpbCTqoH4",
        "outputId": "67480d59-c70d-443d-d7c9-901727644b48"
      },
      "execution_count": 44,
      "outputs": [
        {
          "output_type": "execute_result",
          "data": {
            "text/plain": [
              "array([[0.88736335, 0.81946877, 0.75811181],\n",
              "       [0.31195475, 0.7523707 , 0.9960162 ]])"
            ]
          },
          "metadata": {},
          "execution_count": 44
        }
      ]
    },
    {
      "cell_type": "markdown",
      "source": [
        "# **연결 리스트**"
      ],
      "metadata": {
        "id": "_ez8YKtIr6Zi"
      }
    },
    {
      "cell_type": "code",
      "source": [
        "linka = {8:[65, 4], 4:[54, 9], 9:[12, None]}\n",
        "print(linka)\n",
        "\n",
        "#함수 정의\n",
        "def SL(linka, root):\n",
        "  head = root\n",
        "  next_node = head\n",
        "\n",
        "  while (1):\n",
        "    node_value = linka[next_node][0] #데이터 값\n",
        "    next_node = linka[next_node][1]  #다음 주소\n",
        "    print(f\"데이터 값: {node_value}\")\n",
        "    if next_node == None:\n",
        "      break\n",
        "\n",
        "  '''\n",
        "  while next_node != None:\n",
        "    node_value = linka[next_node][0] #데이터 값\n",
        "    next_node = linka[next_node][1]  #다음 주소\n",
        "    print(f\"데이터 값: {node_value}\")\n",
        "  '''\n",
        "\n",
        "#함수 호출\n",
        "SL(linka, 8) #(, 처음 시작 값인 헤드)"
      ],
      "metadata": {
        "colab": {
          "base_uri": "https://localhost:8080/"
        },
        "id": "qwo51bxCr990",
        "outputId": "38403980-7af3-4eb3-d29c-0b176fceb8b3"
      },
      "execution_count": 47,
      "outputs": [
        {
          "output_type": "stream",
          "name": "stdout",
          "text": [
            "{8: [65, 4], 4: [54, 9], 9: [12, None]}\n",
            "데이터 값: 65\n",
            "데이터 값: 54\n",
            "데이터 값: 12\n"
          ]
        }
      ]
    },
    {
      "cell_type": "markdown",
      "source": [
        "퀴즈 3 대체과제"
      ],
      "metadata": {
        "id": "jQ3K-rFJxSuU"
      }
    },
    {
      "cell_type": "code",
      "source": [
        "a = {'head':['일', 65], 65:['월', 54], 54:['화', 12], 12:['수', 117],\n",
        "     117:['목', 80], 80:['금', 31], 31:['토', None]}\n",
        "print(a)\n",
        "\n",
        "def SinglyLinkedList(slist, root):\n",
        "  head = root\n",
        "  next_node = head\n",
        "  print(\"head{시작} :\", next_node)\n",
        "  while(1):\n",
        "    node_value = slist[next_node][0]\n",
        "    next_node = slist[next_node][1]\n",
        "    print(f'value: {node_value}')\n",
        "    print(f'next: {next_node}')\n",
        "    if next_node == None:\n",
        "      break\n",
        "\n",
        "SinglyLinkedList(a, 'head')\n"
      ],
      "metadata": {
        "colab": {
          "base_uri": "https://localhost:8080/"
        },
        "id": "pDQ-pehkvuNd",
        "outputId": "0880e610-108d-45f6-aa65-3cfb24236bf8"
      },
      "execution_count": 54,
      "outputs": [
        {
          "output_type": "stream",
          "name": "stdout",
          "text": [
            "{'head': ['일', 65], 65: ['월', 54], 54: ['화', 12], 12: ['수', 117], 117: ['목', 80], 80: ['금', 31], 31: ['토', None]}\n",
            "head{시작} : head\n",
            "value: 일\n",
            "next: 65\n",
            "value: 월\n",
            "next: 54\n",
            "value: 화\n",
            "next: 12\n",
            "value: 수\n",
            "next: 117\n",
            "value: 목\n",
            "next: 80\n",
            "value: 금\n",
            "next: 31\n",
            "value: 토\n",
            "next: None\n"
          ]
        }
      ]
    }
  ]
}