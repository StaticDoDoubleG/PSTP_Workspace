{
  "nbformat": 4,
  "nbformat_minor": 0,
  "metadata": {
    "colab": {
      "provenance": [],
      "authorship_tag": "ABX9TyPDQaKSVc+7ED8mBc+k44/A",
      "include_colab_link": true
    },
    "kernelspec": {
      "name": "python3",
      "display_name": "Python 3"
    },
    "language_info": {
      "name": "python"
    }
  },
  "cells": [
    {
      "cell_type": "markdown",
      "metadata": {
        "id": "view-in-github",
        "colab_type": "text"
      },
      "source": [
        "<a href=\"https://colab.research.google.com/github/StaticDoDoubleG/PSTP_Workspace/blob/main/0705_Probs_and_Algorithms.ipynb\" target=\"_parent\"><img src=\"https://colab.research.google.com/assets/colab-badge.svg\" alt=\"Open In Colab\"/></a>"
      ]
    },
    {
      "cell_type": "markdown",
      "source": [
        "# **활동하기 1**"
      ],
      "metadata": {
        "id": "teX0ahuisHya"
      }
    },
    {
      "cell_type": "markdown",
      "source": [
        "while 문 버전"
      ],
      "metadata": {
        "id": "L02GzkJ1uUrP"
      }
    },
    {
      "cell_type": "code",
      "execution_count": null,
      "metadata": {
        "colab": {
          "base_uri": "https://localhost:8080/"
        },
        "id": "Gb3I7j5FpUh8",
        "outputId": "8b59640b-5418-4884-a14a-01c2c964ac2c"
      },
      "outputs": [
        {
          "output_type": "stream",
          "name": "stdout",
          "text": [
            "현재 선형 검색을 위한 리스트 : [12, 10, 27, 51, 7, 96]\n",
            "찾고자 하는 수를 입력: 7\n",
            "index 0: 12\n",
            "index 1: 10\n",
            "index 2: 27\n",
            "index 3: 51\n",
            "index 4: 7\n",
            "인덱스[4]에서 탐색 성공\n",
            "탐색 종료\n"
          ]
        }
      ],
      "source": [
        "LinearSearch_list = [12,10,27,51,7,96]\n",
        "print(f'현재 선형 검색을 위한 리스트 : {LinearSearch_list}')\n",
        "i = 0 #인덱스 시작값\n",
        "search = int(input(\"찾고자 하는 수를 입력: \")) #찾고자 하는 값\n",
        "while i < len(LinearSearch_list):\n",
        "  print(f'index {i}:', LinearSearch_list[i])\n",
        "  if LinearSearch_list[i] == search: #만약 리스트[인덱스]==찾고자 하는 값\n",
        "    print(f'인덱스[{i}]에서 탐색 성공') #탐색성공\n",
        "    print('탐색 종료')\n",
        "    break #반복문 탈출\n",
        "  else: #else 없어도 됨\n",
        "    i=i+1 #인덱스값 1씩 증가하기"
      ]
    },
    {
      "cell_type": "markdown",
      "source": [
        "for 문 버전"
      ],
      "metadata": {
        "id": "6zz3H1VfuXMY"
      }
    },
    {
      "cell_type": "code",
      "source": [
        "print(f'현재 선형 검색을 위한 리스트 : {LinearSearch_list}')\n",
        "search = int(input(\"찾고자 하는 수를 입력: \")) #찾고자 하는 값\n",
        "for i in range(0, len(LinearSearch_list)):\n",
        "#for idx in range(0, 6, 1) //마지막 인자는 간격을 의미함\n",
        "  print(f'index {i}: {LinearSearch_list[i]}')\n",
        "  if LinearSearch_list[i] == search: #만약 리스트[인덱스]==찾고자 하는 값\n",
        "    print(f'인덱스[{i}]에서 탐색성공') #탐색성공\n",
        "    print(\"탐색 종료\")\n",
        "    break #반복문 탈출\n"
      ],
      "metadata": {
        "colab": {
          "base_uri": "https://localhost:8080/"
        },
        "id": "NMpOzO1TuT_3",
        "outputId": "30ab2bcd-1297-41a1-ddb3-27318dcfa958"
      },
      "execution_count": null,
      "outputs": [
        {
          "output_type": "stream",
          "name": "stdout",
          "text": [
            "현재 선형 검색을 위한 리스트 : [12, 10, 27, 51, 7, 96]\n",
            "찾고자 하는 수를 입력: 10\n",
            "index 0: 12\n",
            "index 1: 10\n",
            "인덱스[1]에서 탐색성공\n",
            "탐색 종료\n"
          ]
        }
      ]
    },
    {
      "cell_type": "code",
      "source": [
        "a = [6, 11, 5, 23, 77, 9, 10, 4, 2, 88]\n",
        "#선형 검색, while 문 또는 for 문, 10을 찾기\n",
        "#while 문 버전\n",
        "print(f'현재 선형 검색을 위한 리스트 : {a}')\n",
        "i = 0 #인덱스 시작값\n",
        "search = int(input(\"찾고자 하는 수를 입력: \")) #찾고자 하는 값\n",
        "while i<len(a):\n",
        "  print(f'index {i}:', a[i])\n",
        "  if a[i] == search: #만약 리스트[인덱스]==찾고자 하는 값\n",
        "    print(f'인덱스[{i}]에서 탐색 성공') #탐색성공\n",
        "    print('탐색 종료')\n",
        "    break #반복문 탈출\n",
        "  else:\n",
        "    i = i+1 #인덱스값 1씩 증가하기\n",
        "#for 문 버전\n",
        "search = int(input(\"찾고자 하는 수를 입력: \")) #찾고자 하는 값\n",
        "for i in range(0, len(a)):\n",
        "#for idx in range(0, 6, 1) //마지막 인자는 간격을 의미함\n",
        "  print(f'index {i}: {a[i]}')\n",
        "  if a[i] == search: #만약 리스트[인덱스]==찾고자 하는 값\n",
        "    print(f'인덱스[{i}]에서 탐색성공') #탐색성공\n",
        "    print(\"탐색 종료\")\n",
        "    break #반복문 탈출\n"
      ],
      "metadata": {
        "colab": {
          "base_uri": "https://localhost:8080/"
        },
        "id": "-X2CW3s0venh",
        "outputId": "403f1c75-b775-4da1-ca4d-b8a33ecae0cf"
      },
      "execution_count": null,
      "outputs": [
        {
          "output_type": "stream",
          "name": "stdout",
          "text": [
            "현재 선형 검색을 위한 리스트 : [6, 11, 5, 23, 77, 9, 10, 4, 2, 88]\n",
            "찾고자 하는 수를 입력: 10\n",
            "index 0: 6\n",
            "index 1: 11\n",
            "index 2: 5\n",
            "index 3: 23\n",
            "index 4: 77\n",
            "index 5: 9\n",
            "index 6: 10\n",
            "인덱스[6]에서 탐색 성공\n",
            "탐색 종료\n",
            "찾고자 하는 수를 입력: 10\n",
            "index 0: 6\n",
            "index 1: 11\n",
            "index 2: 5\n",
            "index 3: 23\n",
            "index 4: 77\n",
            "index 5: 9\n",
            "index 6: 10\n",
            "인덱스[6]에서 탐색성공\n",
            "탐색 종료\n"
          ]
        }
      ]
    },
    {
      "cell_type": "markdown",
      "source": [
        "# **활동하기 3**"
      ],
      "metadata": {
        "id": "WqKaJDH00OUm"
      }
    },
    {
      "cell_type": "code",
      "source": [
        "bs = [12, 10, 27, 51, 7, 96]\n",
        "print(f'정렬 전 : {bs}')\n",
        "bs.sort()\n",
        "print(f'정렬 후 : {bs}')\n",
        "\n",
        "search = int(input(\"찾는 숫자는? \"))\n",
        "low, high = 0, len(bs) - 1\n",
        "#low: 주어진 범위 안에서 인덱스 맨 처음\n",
        "#high: 주어진 범위 안에서 인덱스 맨 마지막\n",
        "print(f'low : {low}, high : {high}')\n",
        "count = 0\n",
        "while low <= high:\n",
        "  mid = int((low+high)/2)\n",
        "  print(f'중앙값 : {mid} -> {bs[mid]}')\n",
        "  count = count + 1\n",
        "  if search == bs[mid]:\n",
        "    print(f\"인덱스[{mid}]의 값 {search}을 총 {count}번 만에 탐색 성공\")\n",
        "    break\n",
        "  elif search > bs[mid]:  #내가 찾고 싶은 값이 뒤쪽에 위치한 경우\n",
        "    low = mid + 1\n",
        "  elif search < bs[mid]:  #내가 찾고 싶은 값이 앞쪽에 위치한 경우\n",
        "    high = mid - 1\n",
        "\n"
      ],
      "metadata": {
        "colab": {
          "base_uri": "https://localhost:8080/"
        },
        "id": "qfoHNFVY0s9W",
        "outputId": "2b93a342-1f94-4c30-ce33-fd2b8ff46ea5"
      },
      "execution_count": null,
      "outputs": [
        {
          "output_type": "stream",
          "name": "stdout",
          "text": [
            "정렬 전 : [12, 10, 27, 51, 7, 96]\n",
            "정렬 후 : [7, 10, 12, 27, 51, 96]\n",
            "찾는 숫자는? 7\n",
            "low : 0, high : 5\n",
            "중앙값 : 2 -> 12\n",
            "중앙값 : 0 -> 7\n",
            "인덱스[0]의 값 7을 총 2번 만에 탐색 성공\n"
          ]
        }
      ]
    },
    {
      "cell_type": "markdown",
      "source": [
        "과제(1)"
      ],
      "metadata": {
        "id": "sZBiuZ4Y6GzP"
      }
    },
    {
      "cell_type": "code",
      "source": [
        "#선형 검색 함수 정의(1)\n",
        "def my_in(data, a):\n",
        "  print(f\"선형 검색을 위한 리스트 : {a}\")\n",
        "  #여기에 코드 작성\n",
        "  i, count = 0, 0\n",
        "  my_flag = False #initialize\n",
        "  while i < len(a):\n",
        "    count += 1\n",
        "    if data == a[i]:\n",
        "      my_flag = True\n",
        "      break\n",
        "    else:\n",
        "      i = i + 1\n",
        "  print(f'{data}는/은 리스트에 값이 있다.(True, False):{my_flag}', end = '')\n",
        "  if my_flag == True:\n",
        "    print(f', {count}번 만에 탐색 성공.')\n",
        "\n",
        "#이진 검색 함수 정의(2)\n",
        "def my_in_bi(data, a):\n",
        "  #print(f\"이진 검색을 위한 리스트 : {a}\")\n",
        "  a.sort()\n",
        "  print(f\"이진 검색을 위한 오름차순 정렬 후 : {a}\")\n",
        "  #여기에 코드 작성\n",
        "  low, count = 0, 0\n",
        "  high = len(a) - 1\n",
        "  my_flag = False\n",
        "  while low <= high:\n",
        "    mid = int((low + high) / 2)\n",
        "    count += 1\n",
        "    if data == a[mid]:\n",
        "      my_flag = True\n",
        "      break\n",
        "    elif data > a[mid]:\n",
        "      low = mid + 1\n",
        "    else:\n",
        "      high = mid - 1\n",
        "  print(f'{data}는/은 리스트에 값이 있다.(True, False):{my_flag}', end = '')\n",
        "  if my_flag == True:\n",
        "    print(f', {count}번 만에 탐색 성공.')\n",
        "\n",
        "\n",
        "#함수 호출\n",
        "a = [37, 29, 69, 30, 15, 55, 90, 87, 73, 20]\n",
        "\n",
        "#print(f\"선형 검색을 위한 리스트 : {a}\")\n",
        "my_in(87, a) #선형 검색 함수 호출\n",
        "print(\"\")\n",
        "my_in_bi(87, a) #이진 검색 함수 호출\n",
        "print(\"\")\n",
        "my_in_bi(69, a) #이진 검색 함수 호출\n",
        "\n",
        "#False 사례\n",
        "print(\"\")\n",
        "my_in(27, a) #선형 검색 함수 호출\n",
        "print(\"\\n\")\n",
        "my_in_bi(39, a) #이진 검색 함수 호출\n",
        "\n",
        "\n"
      ],
      "metadata": {
        "colab": {
          "base_uri": "https://localhost:8080/"
        },
        "id": "d93Z4rPh6E3E",
        "outputId": "31d7238c-f1e5-4687-b378-9f085ff48f05"
      },
      "execution_count": null,
      "outputs": [
        {
          "output_type": "stream",
          "name": "stdout",
          "text": [
            "선형 검색을 위한 리스트 : [37, 29, 69, 30, 15, 55, 90, 87, 73, 20]\n",
            "87는/은 리스트에 값이 있다.(True, False):True, 8번 만에 탐색 성공.\n",
            "\n",
            "이진 검색을 위한 오름차순 정렬 후 : [15, 20, 29, 30, 37, 55, 69, 73, 87, 90]\n",
            "87는/은 리스트에 값이 있다.(True, False):True, 3번 만에 탐색 성공.\n",
            "\n",
            "이진 검색을 위한 오름차순 정렬 후 : [15, 20, 29, 30, 37, 55, 69, 73, 87, 90]\n",
            "69는/은 리스트에 값이 있다.(True, False):True, 4번 만에 탐색 성공.\n",
            "\n",
            "선형 검색을 위한 리스트 : [15, 20, 29, 30, 37, 55, 69, 73, 87, 90]\n",
            "27는/은 리스트에 값이 있다.(True, False):False\n",
            "\n",
            "이진 검색을 위한 오름차순 정렬 후 : [15, 20, 29, 30, 37, 55, 69, 73, 87, 90]\n",
            "39는/은 리스트에 값이 있다.(True, False):False"
          ]
        }
      ]
    }
  ]
}