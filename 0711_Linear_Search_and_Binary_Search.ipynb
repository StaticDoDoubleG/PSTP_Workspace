{
  "nbformat": 4,
  "nbformat_minor": 0,
  "metadata": {
    "colab": {
      "provenance": [],
      "authorship_tag": "ABX9TyN4xfxQnv95nFGJs2shtTFD",
      "include_colab_link": true
    },
    "kernelspec": {
      "name": "python3",
      "display_name": "Python 3"
    },
    "language_info": {
      "name": "python"
    }
  },
  "cells": [
    {
      "cell_type": "markdown",
      "metadata": {
        "id": "view-in-github",
        "colab_type": "text"
      },
      "source": [
        "<a href=\"https://colab.research.google.com/github/StaticDoDoubleG/PSTP_Workspace/blob/main/0711_Linear_Search_and_Binary_Search.ipynb\" target=\"_parent\"><img src=\"https://colab.research.google.com/assets/colab-badge.svg\" alt=\"Open In Colab\"/></a>"
      ]
    },
    {
      "cell_type": "markdown",
      "source": [
        "# **선형 검색을 이용한 프로젝트**"
      ],
      "metadata": {
        "id": "8bpaLilx8xIf"
      }
    },
    {
      "cell_type": "code",
      "execution_count": 51,
      "metadata": {
        "colab": {
          "base_uri": "https://localhost:8080/"
        },
        "id": "da6GwtuHyzNk",
        "outputId": "4945d091-5040-40c5-bed4-8a8de9cfb8f8"
      },
      "outputs": [
        {
          "output_type": "stream",
          "name": "stdout",
          "text": [
            "[게시글 프로그램]\n",
            "\n",
            "[1]: 게시글 작성 \n",
            "[2]: 게시글 조회 \n",
            "[3]: 종료\n",
            "\n",
            "원하는 작업을 선택하세요: 2\n",
            "\n",
            "게시글이 없습니다.\n",
            "\n",
            "[게시글 프로그램]\n",
            "\n",
            "[1]: 게시글 작성 \n",
            "[2]: 게시글 조회 \n",
            "[3]: 종료\n",
            "\n",
            "원하는 작업을 선택하세요: 1\n",
            "\n",
            "제목을 입력하세요: 뭉탱이\n",
            "내용을 입력하세요: 유링게슝\n",
            "\n",
            "게시글이 작성되었습니다.\n",
            "\n",
            "[게시글 프로그램]\n",
            "\n",
            "[1]: 게시글 작성 \n",
            "[2]: 게시글 조회 \n",
            "[3]: 종료\n",
            "\n",
            "원하는 작업을 선택하세요: 2\n",
            "\n",
            " {'뭉탱이': {'title': '뭉탱이', 'content': '유링게슝'}}\n",
            "\n",
            "검색할 제목을 입력하세요: 뭉탱이\n",
            "\n",
            "제목: 뭉탱이\n",
            "내용: 유링게슝\n",
            "\n",
            "[게시글 프로그램]\n",
            "\n",
            "[1]: 게시글 작성 \n",
            "[2]: 게시글 조회 \n",
            "[3]: 종료\n",
            "\n",
            "원하는 작업을 선택하세요: 3\n",
            "\n",
            "프로그램을 종료합니다.\n"
          ]
        }
      ],
      "source": [
        "posts = dict() # 게시글 저장을 위한 딕셔너리 생성\n",
        "\n",
        "# 게시글 작성 함수 정의\n",
        "def wpost():\n",
        "  title = input(\"\\n제목을 입력하세요: \")             # 작성할 제목을 입력한다.\n",
        "  content = input(\"내용을 입력하세요: \")             # 작성할 내용을 입력한다.\n",
        "  post = {\"title\": title, \"content\": content}        # 입력된 내용을 딕셔너리로 만든다.\n",
        "  posts[title] = post                                # 해당 딕셔너리를 posts 딕셔너리에 값으로 넣는다. 이때 키는 title이다.\n",
        "  print(\"\\n게시글이 작성되었습니다.\\n\")              # 게시글이 작성되었음을 알린다.\n",
        "\n",
        "# 게시글 검색 함수 정의\n",
        "def spost():\n",
        "  if len(posts) == 0:                                # 만일 posts 딕셔너리에 아무것도 넣어져 있지 않다면\n",
        "    print(\"\\n게시글이 없습니다.\\n\")                  # 게시글이 없음을 알리고\n",
        "    return                                           # spost 함수를 종료한다.\n",
        "  print(\"\\n\", posts)                                 # posts 딕셔너리에 키, 값이 있다면 posts 딕셔너리의 내용을 출력한다.\n",
        "\n",
        "  #[1] Variation 1                                   # Variation 1\n",
        "  keyword = input(\"\\n검색할 제목을 입력하세요: \")    # 검색할 제목을 입력한다.\n",
        "  if keyword in posts:                               # 만일 posts 딕셔너리에 제목이 있다면\n",
        "    print(f\"\\n제목: {keyword}\")                      # 제목을 출력하고\n",
        "    print(f\"내용: {posts[keyword]['content']}\\n\")    # 내용을 출력한다.\n",
        "  else:                                              # 만일 posts 딕셔너리에 제목이 없다면\n",
        "    print(\"검색 결과가 없습니다.\\n\")                 # 검색 결과가 없음을 알린다.\n",
        "  '''\n",
        "  #[2] Variation 2                                   # Variation 2\n",
        "  found = False                                      # 게시글을 찾았는지 나타내는 변수를 False로 초기화 한다.\n",
        "  for title in posts.keys():                         # posts 딕셔너리의 키에 제목이 있는 동안에\n",
        "    if keyword == title:                             # 제목이 딕셔너리의 키와 일치한다면\n",
        "      print(f\"\\n제목: {posts[title]['title']}\")      # 제목을 출력하고\n",
        "      print(f\"내용: {posts[title]['content']}\\n\")    # 내용을 출력한다.\n",
        "      found = True                                   # 게시글을 찾았는지 나타내는 변수를 True로 변경한다.\n",
        "      break                                          # for문을 빠져나온다.\n",
        "    if not found:                                    # 만일 게시글을 찾았는지 나타내는 변수가 반복문 탈출 후에도 False면\n",
        "      print(\"검색 결과가 없습니다.\\n\")               # 검색 결과가 없음을 알린다.\n",
        "  '''\n",
        "\n",
        "#시작 및 함수 호출하기\n",
        "while (1):                                           # 무한 반복\n",
        "  select = input(\"[게시글 프로그램]\\n\\n[1]: 게시글 작성 \\n[2]: 게시글 조회 \\n[3]: 종료\\n\\n원하는 작업을 선택하세요: \") # 사용자 입력을 받는다.\n",
        "  if select == \"1\":                                  # 입력한 값이 1이면\n",
        "    wpost()                                          # 게시글 작성하기\n",
        "  elif select == \"2\":                                # 입력한 값이 2이면\n",
        "    spost()                                          # 게시글 검색하기\n",
        "  elif select == \"3\":                                # 입력한 값이 3이면\n",
        "    print(\"\\n프로그램을 종료합니다.\")                # 프로그램 종료를 알리고\n",
        "    break                                            # while문을 빠져나온다.\n",
        "  else:                                              # 입력한 값이 1, 2, 3 중 그 어느 것도 아니면\n",
        "    print(\"\\n잘못된 입력입니다. 다시 입력해주세요.\\n\") # 잘못된 입력임을 알리고 반복문을 돈다."
      ]
    },
    {
      "cell_type": "markdown",
      "source": [
        "# **이진 검색을 이용한 프로젝트**"
      ],
      "metadata": {
        "id": "ZCJxbAeq82AT"
      }
    },
    {
      "cell_type": "markdown",
      "source": [
        "방법 1"
      ],
      "metadata": {
        "id": "IKTMyYGK9oBx"
      }
    },
    {
      "cell_type": "code",
      "source": [
        "# 파일에서 단어를 찾는 이진 탐색 함수 정의\n",
        "def binary_search1(file, word):\n",
        "  with open('test.txt', 'r') as f:        # 파일을 연다.\n",
        "    words = f.read().split()              # 파일의 내용을 읽어 공백 단위로 잘라 words에 담는다.\n",
        "    words.sort()                          # words를 오름차순으로 정렬\n",
        "  low, high = 0, len(words)-1             # low의 값을 0, high의 값을 words 리스트의 길이 - 1 로 초기화한다.\n",
        "  while low <= high:                      # high가 low보다 크거나 같은 동안에\n",
        "    mid = (low + high)//2                 # high와 low의 중앙값(정수)을 구하고\n",
        "    #print(f\"중앙값 : {mid}\")             ## 중앙값을 출력하고,\n",
        "    if words[mid] < word:                 # 만일 구한 words 리스트의 중앙값이 찾으려는 단어보다 작다면(선행한다면)\n",
        "      low = mid+1                         # low를 중앙값에 1을 더한 값으로 갱신한다.\n",
        "    elif words[mid] > word:               # 그렇지 않고 words 리스트의 중앙값이 찾으려는 단어보다 크다면(후행한다면)\n",
        "      high = mid-1                        # high를 중앙값에 1을 뺀 값으로 갱신한다.\n",
        "    else:                                 # 둘 다 아니면 이진 탐색이 완료된 것이므로\n",
        "      return True                         # True를 반환한다.\n",
        "  return False                            # 위 반복문을 거치면서 어떤 갱신도 없었으므로 False 반환\n",
        "\n",
        "#단어 검색 함수 정의\n",
        "def search_word1():\n",
        "  file = input(\"\\n검색할 파일명을 입력하세요: \")          # 검색할 파일 이름을 입력\n",
        "  word = input(\"검색할 단어를 입력하세요: \")              # 검색할 단어를 입력\n",
        "  if binary_search1(file, word):                          # 이진 탐색 수행 후 True를 반환받으면\n",
        "    print(f\"\\n{word}을(를) 찾았습니다.\\n\")                # 해당 단어를 파일에서 찾았음을 알린다.\n",
        "  else:                                                   # 그렇지 않으면\n",
        "    print(f\"\\n{word}을(를) 찾을 수 없습니다.\\n\")          # 해당 단어를 파일에서 찾지 못했음을 알린다.\n",
        "\n",
        "#시작 및 함수 호출\n",
        "while (1):                                                # 무한 반복\n",
        "  command = input(\"[단어 검색 프로그램]\\n\\n[1]: 단어 검색\\n[2]: 종료\\n\\n원하는 작업을 선택하세요: \") # 사용자 입력을 받는다.\n",
        "  if command == \"1\":                                      # 입력이 1이면\n",
        "    search_word1()                                        # 단어 검색 함수를 호출한다.\n",
        "  elif command == \"2\":                                    # 입력이 2이면\n",
        "    print(\"\\n프로그램을 종료합니다.\")                     # 프로그램이 종료됨을 알리고\n",
        "    break                                                 # while문을 빠져나온다.\n",
        "  else:                                                   # 만일 입력이 1, 2 중 어느것도 아니라면\n",
        "    print(\"\\n잘못된 입력입니다. 다시 입력해주세요.\\n\")    # 잘못된 입력임을 고지하고 반복문을 돈다.\n"
      ],
      "metadata": {
        "colab": {
          "base_uri": "https://localhost:8080/"
        },
        "id": "2YXOZHj485Tn",
        "outputId": "7657daf0-a3c6-4ca4-d543-f163aa8b94be"
      },
      "execution_count": 46,
      "outputs": [
        {
          "output_type": "stream",
          "name": "stdout",
          "text": [
            "[단어 검색 프로그램]\n",
            "\n",
            "[1]: 단어 검색\n",
            "[2]: 종료\n",
            "\n",
            "원하는 작업을 선택하세요: e\n",
            "\n",
            "잘못된 입력입니다. 다시 입력해주세요.\n",
            "\n",
            "[단어 검색 프로그램]\n",
            "\n",
            "[1]: 단어 검색\n",
            "[2]: 종료\n",
            "\n",
            "원하는 작업을 선택하세요: 1\n",
            "\n",
            "검색할 파일명을 입력하세요: 뭉탱이\n",
            "검색할 단어를 입력하세요: 유링게슝\n",
            "\n",
            "유링게슝을(를) 찾았습니다.\n",
            "\n",
            "[단어 검색 프로그램]\n",
            "\n",
            "[1]: 단어 검색\n",
            "[2]: 종료\n",
            "\n",
            "원하는 작업을 선택하세요: 1\n",
            "\n",
            "검색할 파일명을 입력하세요: 뭉탱이\n",
            "검색할 단어를 입력하세요: 뭉탱이\n",
            "\n",
            "뭉탱이을(를) 찾을 수 없습니다.\n",
            "\n",
            "[단어 검색 프로그램]\n",
            "\n",
            "[1]: 단어 검색\n",
            "[2]: 종료\n",
            "\n",
            "원하는 작업을 선택하세요: 2\n",
            "\n",
            "프로그램을 종료합니다.\n"
          ]
        }
      ]
    },
    {
      "cell_type": "markdown",
      "source": [
        "방법 2"
      ],
      "metadata": {
        "id": "C1e-vqbB9qx5"
      }
    },
    {
      "cell_type": "code",
      "source": [
        "#이진검색함수 정의\n",
        "def binary_search2(words, word):\n",
        "  low, high = 0, len(words) - 1           # low의 값을 0, high의 값을 words 리스트의 길이 - 1 로 초기화한다.\n",
        "  while low <= high:                      # high가 low보다 크거나 같은 동안에\n",
        "    mid = (low + high) // 2               # high와 low의 중앙값(정수)을 구하고\n",
        "    if words[mid] == word:                # words 리스트에서 일치하는 단어를 찾은 경우\n",
        "      return True                         # True를 반환\n",
        "    elif words[mid] < word:               # 중앙값이 찾는 단어보다 작은 경우\n",
        "      low = mid + 1                       # low를 중앙값에 1을 더한 값으로 갱신한다.\n",
        "    else:                                 # 중앙값이 찾는 단어보다 큰 경우\n",
        "      high = mid - 1                      # high를 중앙값에 1을 뺀 값으로 갱신한다.\n",
        "  return False                            # 위 반복문을 거치면서 어떤 갱신도 없었으므로 False 반환\n",
        "\n",
        "#단어 검색 함수 정의\n",
        "def search_word2():\n",
        "  filename = input(\"\\n검색할 파일명을 입력하세요: \")      # 검색할 파일 이름을 입력\n",
        "  word = input(\"검색할 단어를 입력하세요: \")              # 검색할 단어를 입력\n",
        "  with open(\"test.txt\", \"r\") as f:                        # 파일을 연다.\n",
        "    words = f.read().split()                              # 파일의 내용을 읽어 공백 단위로 잘라 words에 담는다.\n",
        "    words.sort()                                          # words를 오름차순으로 정렬\n",
        "  if binary_search2(words, word):                         # 이진 탐색 수행 후 True를 반환받으면\n",
        "    print(f\"\\n{word}을(를) 찾았습니다.\\n\")                # 해당 단어를 파일에서 찾았음을 알린다.\n",
        "  else:                                                   # 그렇지 않으면\n",
        "    print(f\"\\n{word}을(를) 찾을 수 없습니다.\\n\")          # 해당 단어를 파일에서 찾지 못했음을 알린다.\n",
        "\n",
        "#시작 및 함수 호출\n",
        "while (1):                                                # 무한 반복\n",
        "  command = input(\"[단어 검색 프로그램]\\n\\n[1]: 단어 검색\\n[2]: 종료\\n\\n원하는 작업을 선택하세요: \") # 사용자 입력을 받는다.\n",
        "  if command == \"1\":                                      # 입력이 1이면\n",
        "    search_word2()                                        # 단어 검색 함수를 호출한다.\n",
        "  elif command == \"2\":                                    # 입력이 2이면\n",
        "    print(\"\\n프로그램을 종료합니다.\")                     # 프로그램이 종료됨을 알리고\n",
        "    break                                                 # while문을 빠져나온다.\n",
        "  else:                                                   # 만일 입력이 1, 2 중 어느것도 아니라면\n",
        "    print(\"\\n잘못된 입력입니다. 다시 입력해주세요.\\n\")    # 잘못된 입력임을 고지하고 반복문을 돈다."
      ],
      "metadata": {
        "colab": {
          "base_uri": "https://localhost:8080/"
        },
        "id": "LdRUKNpP9seL",
        "outputId": "381ccc01-545c-4933-c490-82d16069846c"
      },
      "execution_count": 49,
      "outputs": [
        {
          "output_type": "stream",
          "name": "stdout",
          "text": [
            "[단어 검색 프로그램]\n",
            "\n",
            "[1]: 단어 검색\n",
            "[2]: 종료\n",
            "\n",
            "원하는 작업을 선택하세요: e\n",
            "\n",
            "잘못된 입력입니다. 다시 입력해주세요.\n",
            "\n",
            "[단어 검색 프로그램]\n",
            "\n",
            "[1]: 단어 검색\n",
            "[2]: 종료\n",
            "\n",
            "원하는 작업을 선택하세요: 1\n",
            "\n",
            "검색할 파일명을 입력하세요: 뭉탱이\n",
            "검색할 단어를 입력하세요: 유링게슝\n",
            "\n",
            "유링게슝을(를) 찾았습니다.\n",
            "\n",
            "[단어 검색 프로그램]\n",
            "\n",
            "[1]: 단어 검색\n",
            "[2]: 종료\n",
            "\n",
            "원하는 작업을 선택하세요: 1\n",
            "\n",
            "검색할 파일명을 입력하세요: 뭉탱이\n",
            "검색할 단어를 입력하세요: 뭉탱이\n",
            "\n",
            "뭉탱이을(를) 찾을 수 없습니다.\n",
            "\n",
            "[단어 검색 프로그램]\n",
            "\n",
            "[1]: 단어 검색\n",
            "[2]: 종료\n",
            "\n",
            "원하는 작업을 선택하세요: 2\n",
            "\n",
            "프로그램을 종료합니다.\n"
          ]
        }
      ]
    },
    {
      "cell_type": "markdown",
      "source": [],
      "metadata": {
        "id": "rhyRTmkkGInl"
      }
    }
  ]
}