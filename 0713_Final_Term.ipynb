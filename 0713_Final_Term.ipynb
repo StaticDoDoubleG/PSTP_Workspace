{
  "nbformat": 4,
  "nbformat_minor": 0,
  "metadata": {
    "colab": {
      "provenance": [],
      "authorship_tag": "ABX9TyPgEuPMs5OqhVRMlVMNrz3g",
      "include_colab_link": true
    },
    "kernelspec": {
      "name": "python3",
      "display_name": "Python 3"
    },
    "language_info": {
      "name": "python"
    }
  },
  "cells": [
    {
      "cell_type": "markdown",
      "metadata": {
        "id": "view-in-github",
        "colab_type": "text"
      },
      "source": [
        "<a href=\"https://colab.research.google.com/github/StaticDoDoubleG/PSTP_Workspace/blob/main/0713_Final_Term.ipynb\" target=\"_parent\"><img src=\"https://colab.research.google.com/assets/colab-badge.svg\" alt=\"Open In Colab\"/></a>"
      ]
    },
    {
      "cell_type": "markdown",
      "source": [
        "# **[1] 동전 거스름돈 시스템**"
      ],
      "metadata": {
        "id": "-4tK8O5Zf8Qi"
      }
    },
    {
      "cell_type": "code",
      "execution_count": 7,
      "metadata": {
        "colab": {
          "base_uri": "https://localhost:8080/"
        },
        "id": "5vCMWyAzQu53",
        "outputId": "73401c25-fbbc-4bcd-9328-44444477b9f6"
      },
      "outputs": [
        {
          "output_type": "stream",
          "name": "stdout",
          "text": [
            "[동전 거스름돈 시스템]\n",
            "\n",
            "물건의 가격을 입력하세요: 1000\n",
            "지불할 금액을 입력하세요: 900\n",
            "\n",
            "지불 금액이 100원 부족합니다.\n",
            "\n",
            "물건의 가격을 입력하세요: 1000\n",
            "지불할 금액을 입력하세요: 41900\n",
            "\n",
            "거스름돈 40900원은 \n",
            "\n",
            "\t500원짜리 81개\n",
            "\n",
            "\t100원짜리 4개\n",
            "\n",
            "로 돌려드렸습니다.\n",
            "\n",
            "거래가 완료되었습니다.\n"
          ]
        }
      ],
      "source": [
        "def payment(total ,pay):\n",
        "  change = pay - total\n",
        "  if change < 0:\n",
        "    print(f'\\n지불 금액이 {-change}원 부족합니다.\\n')\n",
        "    return False\n",
        "  coins = [500, 100, 50, 10]\n",
        "  result = {}\n",
        "  for coin in coins:\n",
        "    num = change // coin\n",
        "    if num > 0:\n",
        "      result[coin] = num\n",
        "      change %= coin\n",
        "  print(f'\\n거스름돈 {pay - total}원은 ')\n",
        "  for coin in coins:\n",
        "    if result.get(coin) == None:\n",
        "      continue\n",
        "    else:\n",
        "      print(f'\\n\\t{coin}원짜리 {result.get(coin)}개')\n",
        "  print('\\n로 돌려드렸습니다.')\n",
        "  return True\n",
        "\n",
        "#시작 및 함수 호출\n",
        "print(\"[동전 거스름돈 시스템]\\n\")\n",
        "while (1):\n",
        "  total = int(input(\"물건의 가격을 입력하세요: \"))\n",
        "  pay = int(input(\"지불할 금액을 입력하세요: \"))\n",
        "  if(payment(total, pay)):\n",
        "    print('\\n거래가 완료되었습니다.')\n",
        "    break\n"
      ]
    },
    {
      "cell_type": "markdown",
      "source": [
        "# **[2] 택배 관리 프로그램 구현**"
      ],
      "metadata": {
        "id": "vh-CGVueqoYr"
      }
    },
    {
      "cell_type": "code",
      "source": [
        "stack = [] # 스택 초기화\n",
        "\n",
        "def add_package(stack):\n",
        "  company = input(\"\\n택배 회사: \")\n",
        "  tracking_number = input(\"운송장 번호: \")\n",
        "  address = input(\"받는 사람 주소: \")\n",
        "  phone = input(\"받는 사람 전화번호: \")\n",
        "# 입력받은 정보를 딕셔너리 형태로 생성하여 스택에 삽입\n",
        "  package = {'company': company, 'tracking_number': tracking_number, 'address': address,'phone': phone}\n",
        "  stack.append(package)\n",
        "  print(\"\\n택배가 추가되었습니다.\\n\")\n",
        "\n",
        "def view_latest_package(stack):\n",
        "# 스택이 비어있을 경우 예외 처리\n",
        "  if not stack:\n",
        "    print(\"\\n현재 등록된 택배가 없습니다.\\n\")\n",
        "    return\n",
        "# 스택에서 가장 나중에 넣은 택배 정보를 꺼내어 주소와 전화번호 출력\n",
        "  latest_package = stack.pop() # 스택에서 가장 나중에 넣은 택배 정보를 가져옴\n",
        "  print(\"\\n택배사:\", latest_package['company'])\n",
        "  print(\"운송장번호:\", latest_package['tracking_number'])\n",
        "  print(\"주소:\", latest_package['address'])\n",
        "  print(\"전화번호:\", latest_package['phone'], \"\\n\")\n",
        "\n",
        "print(\"[택배 관리 프로그램 구현]\\n\")\n",
        "while (1):\n",
        "  print(\"[1] 택배 추가\")\n",
        "  print(\"[2] 가장 나중에 추가한 택배 정보 보기\")\n",
        "  print(\"[3] 종료\")\n",
        "  choice = input(\"\\n메뉴 선택: \")\n",
        "  if choice == \"1\":\n",
        "    add_package(stack) # 함수호출\n",
        "  elif choice == \"2\":\n",
        "    view_latest_package(stack) # 함수호출\n",
        "  elif choice == \"3\":\n",
        "    print(\"\\n프로그램을 종료합니다.\")\n",
        "    break\n",
        "  else:\n",
        "    print(\"\\n잘못된 입력입니다.\\n\")"
      ],
      "metadata": {
        "colab": {
          "base_uri": "https://localhost:8080/"
        },
        "id": "GIlUaDPDl5fS",
        "outputId": "0989e297-28b1-40bb-a5e4-3a829e8ad863"
      },
      "execution_count": 10,
      "outputs": [
        {
          "output_type": "stream",
          "name": "stdout",
          "text": [
            "[택배 관리 프로그램 구현]\n",
            "\n",
            "[1] 택배 추가\n",
            "[2] 가장 나중에 추가한 택배 정보 보기\n",
            "[3] 종료\n",
            "\n",
            "메뉴 선택: 2\n",
            "\n",
            "현재 등록된 택배가 없습니다.\n",
            "\n",
            "[1] 택배 추가\n",
            "[2] 가장 나중에 추가한 택배 정보 보기\n",
            "[3] 종료\n",
            "\n",
            "메뉴 선택: 1\n",
            "\n",
            "택배 회사: CJ 대한통운\n",
            "운송장 번호: 577287045474\n",
            "받는 사람 주소: 경기도 고양시 일산동구 노루목로 80\n",
            "받는 사람 전화번호: 01096040822\n",
            "\n",
            "택배가 추가되었습니다.\n",
            "\n",
            "[1] 택배 추가\n",
            "[2] 가장 나중에 추가한 택배 정보 보기\n",
            "[3] 종료\n",
            "\n",
            "메뉴 선택: 2\n",
            "\n",
            "택배사: CJ 대한통운\n",
            "운송장번호: 577287045474\n",
            "주소: 경기도 고양시 일산동구 노루목로 80\n",
            "전화번호: 01096040822 \n",
            "\n",
            "[1] 택배 추가\n",
            "[2] 가장 나중에 추가한 택배 정보 보기\n",
            "[3] 종료\n",
            "\n",
            "메뉴 선택: 3\n",
            "\n",
            "프로그램을 종료합니다.\n"
          ]
        }
      ]
    },
    {
      "cell_type": "markdown",
      "source": [
        "# **[3] 게시판 프로그램 구현**"
      ],
      "metadata": {
        "id": "mrQweXjxqsbo"
      }
    },
    {
      "cell_type": "code",
      "source": [
        "# 게시글 저장을 위한 빈 딕셔너리 생성\n",
        "posts = dict()\n",
        "# 게시글 작성 함수\n",
        "def write_post():\n",
        "  title = input(\"\\n제목을 입력하세요: \")\n",
        "  content = input(\"내용을 입력하세요: \")\n",
        "  post = {\"title\": title, \"content\": content}\n",
        "  posts[title] = post\n",
        "# 게시글 검색 함수\n",
        "def search_post():\n",
        "  keyword = input(\"\\n검색할 제목을 입력하세요: \")\n",
        "  found = False\n",
        "  for title in posts.keys():\n",
        "    if keyword == title:\n",
        "      print(f\"\\n제목: {posts[title]['title']}\")\n",
        "      print(f\"내용: {posts[title]['content']}\")\n",
        "      found = True\n",
        "      break\n",
        "  if not found:\n",
        "    print(\"\\n검색 결과가 없습니다.\")\n",
        "\n",
        "#시작 및 함수 호출하기\n",
        "print(\"[게시판 프로그램]\")\n",
        "while True:\n",
        "  command = input(\"\\n[1] 게시글 작성\\n[2] 게시글 조회\\n[3] 종료 \\n\\n원하는 작업을 선택하세요: \")\n",
        "  if command == \"1\":\n",
        "    write_post() #함수 호출하기\n",
        "  elif command == \"2\":\n",
        "    if len(posts) == 0:\n",
        "      print(\"\\n게시판에 게시글이 존재하지 않습니다. 새 글을 게시해주세요.\\n\")\n",
        "      continue\n",
        "    print(\"\\n\", posts)\n",
        "    search_post() #함수 호출하기\n",
        "  elif command == \"3\":\n",
        "    print(\"\\n프로그램을 종료합니다.\")\n",
        "    break\n",
        "  else:\n",
        "    print(\"\\n잘못된 입력입니다. 다시 입력해주세요.\\n\")\n"
      ],
      "metadata": {
        "colab": {
          "base_uri": "https://localhost:8080/"
        },
        "id": "wLIpIE6gqsxZ",
        "outputId": "fdf7d9d9-4979-42d7-9413-cd29d3689fea"
      },
      "execution_count": null,
      "outputs": [
        {
          "output_type": "stream",
          "name": "stdout",
          "text": [
            "[게시판 프로그램]\n",
            "\n",
            "[1] 게시글 작성\n",
            "[2] 게시글 조회\n",
            "[3] 종료 \n",
            "\n",
            "원하는 작업을 선택하세요: 2\n",
            "\n",
            "게시판에 게시글이 존재하지 않습니다. 새 글을 게시해주세요.\n",
            "\n",
            "\n",
            "[1] 게시글 작성\n",
            "[2] 게시글 조회\n",
            "[3] 종료 \n",
            "\n",
            "원하는 작업을 선택하세요: 1\n",
            "\n",
            "제목을 입력하세요: 뭉탱이\n",
            "내용을 입력하세요: 유링게슝\n",
            "\n",
            "[1] 게시글 작성\n",
            "[2] 게시글 조회\n",
            "[3] 종료 \n",
            "\n",
            "원하는 작업을 선택하세요: 2\n",
            "\n",
            " {'뭉탱이': {'title': '뭉탱이', 'content': '유링게슝'}}\n",
            "\n",
            "검색할 제목을 입력하세요: 뭉탱이\n",
            "\n",
            "제목: 뭉탱이\n",
            "내용: 유링게슝\n",
            "\n",
            "[1] 게시글 작성\n",
            "[2] 게시글 조회\n",
            "[3] 종료 \n",
            "\n",
            "원하는 작업을 선택하세요: 2\n",
            "\n",
            " {'뭉탱이': {'title': '뭉탱이', 'content': '유링게슝'}}\n",
            "\n",
            "검색할 제목을 입력하세요: 유링게슝\n",
            "\n",
            "검색 결과가 없습니다.\n",
            "\n",
            "[1] 게시글 작성\n",
            "[2] 게시글 조회\n",
            "[3] 종료 \n",
            "\n",
            "원하는 작업을 선택하세요: 3\n",
            "\n",
            "프로그램을 종료합니다.\n"
          ]
        }
      ]
    }
  ]
}